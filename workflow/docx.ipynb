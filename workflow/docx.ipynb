{
 "cells": [
  {
   "cell_type": "code",
   "execution_count": 1,
   "metadata": {},
   "outputs": [],
   "source": [
    "import docx"
   ]
  },
  {
   "cell_type": "code",
   "execution_count": 2,
   "metadata": {},
   "outputs": [],
   "source": [
    "# 基本引用 通过 Document 可以创建一个文档对象\n",
    "from docx import Document\n",
    "from docx.shared import Cm, Pt\n",
    "# 子对象引用，docx.shared 中包含诸如\"字号\"，\"颜色\"，\"行间距\"等常用模块\n",
    "# from docx.shared import Length, Pt, RGBColor"
   ]
  },
  {
   "cell_type": "code",
   "execution_count": 3,
   "metadata": {},
   "outputs": [],
   "source": [
    "m_doc=r\"C:\\Users\\qin\\Desktop\\测试\\测试-深度学习- 副本 - 副本.docx\"\n",
    "docm=docx.Document(m_doc)"
   ]
  },
  {
   "cell_type": "code",
   "execution_count": null,
   "metadata": {},
   "outputs": [],
   "source": [
    "\n",
    "\n",
    "# 判断段落的样式\n",
    "for paragraph in docm.paragraphs:\n",
    "    style_name=paragraph.style.name\n",
    "    print(style_name)\n",
    "    if style_name == 'Heading 1':\n",
    "        for run in paragraph.runs:\n",
    "            pass\n",
    "    elif style_name == 'Heading 2':\n",
    "        pass\n",
    "    elif style_name == 'Normal':\n",
    "        pass\n"
   ]
  },
  {
   "cell_type": "code",
   "execution_count": 4,
   "metadata": {},
   "outputs": [],
   "source": [
    "# 将图片所在的段落改为居中\n",
    "for i in docm.paragraphs:\n",
    "    # print(len(i.text))\n",
    "    for j in i.runs:\n",
    "        if j.element.drawing_lst != []:\n",
    "            i.paragraph_format.alignment = docx.enum.text.WD_ALIGN_PARAGRAPH.CENTER"
   ]
  },
  {
   "cell_type": "code",
   "execution_count": 5,
   "metadata": {},
   "outputs": [],
   "source": [
    "# 将所有图片宽度设置为9cm\n",
    "for pic in docm.inline_shapes:\n",
    "    old_width=pic.width\n",
    "    pic.width=docx.shared.Cm(9)\n",
    "    pic.height=int(pic.height*pic.width/old_width)"
   ]
  },
  {
   "cell_type": "code",
   "execution_count": 6,
   "metadata": {},
   "outputs": [],
   "source": [
    "docm.save(r\"C:\\Users\\qin\\Desktop\\测试\\输出.docx\")"
   ]
  },
  {
   "cell_type": "code",
   "execution_count": null,
   "metadata": {},
   "outputs": [],
   "source": [
    "\n",
    "def catalogue_get(doc):\n",
    "    docx = Document(doc).add_heading\n",
    "    lastest_heading = 0\n",
    "    record = ['1']  #记录目录结构\n",
    "    point = '.'\n",
    "    for paragraph in docx.paragraphs:\n",
    " \n",
    "        if paragraph.style.name[:7] == 'Heading':\n",
    "            this_heading = int(paragraph.style.name[-1])\n",
    " \n",
    "            result = ''.join(record) + point\n",
    "            if this_heading == 1 and lastest_heading == 0:\n",
    "                heading = ''.join(record) + '.'\n",
    "            else:\n",
    "                if this_heading > lastest_heading:\n",
    "                    record.append('1')\n",
    "                elif this_heading == lastest_heading:\n",
    "                    record[-1] = str(int(record[-1]) + 1)\n",
    "                else:\n",
    "                    record[this_heading - 1] = str(int(record[this_heading - 1]) + 1)\n",
    "                    record[this_heading:] = []\n",
    "            heading = '.'.join(record) + point    #显示一段目录\n",
    " \n",
    "            print(heading,paragraph.text,paragraph.style.name,sep='   ')\n"
   ]
  }
 ],
 "metadata": {
  "kernelspec": {
   "display_name": "Python 3.9.12 ('base')",
   "language": "python",
   "name": "python3"
  },
  "language_info": {
   "codemirror_mode": {
    "name": "ipython",
    "version": 3
   },
   "file_extension": ".py",
   "mimetype": "text/x-python",
   "name": "python",
   "nbconvert_exporter": "python",
   "pygments_lexer": "ipython3",
   "version": "3.9.12"
  },
  "orig_nbformat": 4,
  "vscode": {
   "interpreter": {
    "hash": "5179d32cf6ec497baf3f8a3ef987cc77c5d2dc691fdde20a56316522f61a7323"
   }
  }
 },
 "nbformat": 4,
 "nbformat_minor": 2
}
