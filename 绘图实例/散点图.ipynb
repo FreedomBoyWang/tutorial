{
 "cells": [
  {
   "cell_type": "code",
   "execution_count": 3,
   "metadata": {},
   "outputs": [
    {
     "data": {
      "text/html": [
       "        <script type=\"text/javascript\">\n",
       "        window.PlotlyConfig = {MathJaxConfig: 'local'};\n",
       "        if (window.MathJax && window.MathJax.Hub && window.MathJax.Hub.Config) {window.MathJax.Hub.Config({SVG: {font: \"STIX-Web\"}});}\n",
       "        if (typeof require !== 'undefined') {\n",
       "        require.undef(\"plotly\");\n",
       "        requirejs.config({\n",
       "            paths: {\n",
       "                'plotly': ['https://cdn.plot.ly/plotly-2.12.1.min']\n",
       "            }\n",
       "        });\n",
       "        require(['plotly'], function(Plotly) {\n",
       "            window._Plotly = Plotly;\n",
       "        });\n",
       "        }\n",
       "        </script>\n",
       "        "
      ]
     },
     "metadata": {},
     "output_type": "display_data"
    }
   ],
   "source": [
    "import plotly.graph_objs as go\n",
    "import numpy as np\n",
    "import pandas as pd\n",
    "from plotly.offline import init_notebook_mode, iplot\n",
    "init_notebook_mode(connected=True) # 离线刷新kernel\n",
    "from plotly.subplots import  make_subplots"
   ]
  },
  {
   "cell_type": "code",
   "execution_count": 4,
   "metadata": {},
   "outputs": [],
   "source": [
    "df=pd.DataFrame(np.random.randint(200,size=(100,12)))\n",
    "df=df.sort_values(by=[0])"
   ]
  },
  {
   "cell_type": "code",
   "execution_count": 5,
   "metadata": {},
   "outputs": [],
   "source": [
    "# 先把数据准备好\n",
    "trace_list1=[go.Scatter(x=df[0],y=df[i],mode='markers+lines') for i in [1,2,3]]\n",
    "trace_list2=[go.Scatter(x=df[0],y=df[i],mode='markers') for i in [4,5,6]]\n",
    "trace_list3=[go.Scatter(x=df[0],y=df[i],mode='markers') for i in [7,8,9]]\n",
    "trace_list4=[go.Scatter(x=df[0],y=df[i],mode='markers') for i in [9,10,11]]\n",
    "\n",
    "# 这种方式会更快\n",
    "# trace1=go.Scattergl(x=df[0],y=df[1])\n",
    "# trace2=go.Scattergl(x=df[0],y=df[2])\n",
    "# trace3=go.Scattergl(x=df[0],y=df[3])\n",
    "# trace4=go.Scattergl(x=df[0],y=df[4])"
   ]
  },
  {
   "cell_type": "code",
   "execution_count": null,
   "metadata": {},
   "outputs": [],
   "source": [
    "fig=make_subplots(rows=2,cols=2,subplot_titles=['fig1','fig2','fig3','fig4'])\n",
    "fig.update_layout(title=dict(text='title1',x=0.5,y=0.9,xanchor='center',yanchor='top'))\n",
    "fig.add_traces(trace_list1,rows=[1]*3,cols=[1]*3)\n",
    "fig.add_traces(trace_list2,rows=[1]*3,cols=[2]*3)\n",
    "fig.add_traces(trace_list3,rows=[2]*3,cols=[1]*3)\n",
    "fig.add_traces(trace_list4,rows=[2]*3,cols=[2]*3)\n",
    "fig.update_yaxes(title_text='fig1',row=1,col=1)\n",
    "fig.update_yaxes(title_text='fig2',row=1,col=2)\n",
    "fig.update_yaxes(title_text='fig3',row=2,col=1)\n",
    "fig.update_yaxes(title_text='fig4',row=2,col=2)"
   ]
  }
 ],
 "metadata": {
  "kernelspec": {
   "display_name": "ds",
   "language": "python",
   "name": "python3"
  },
  "language_info": {
   "codemirror_mode": {
    "name": "ipython",
    "version": 3
   },
   "file_extension": ".py",
   "mimetype": "text/x-python",
   "name": "python",
   "nbconvert_exporter": "python",
   "pygments_lexer": "ipython3",
   "version": "3.10.9"
  },
  "orig_nbformat": 4,
  "vscode": {
   "interpreter": {
    "hash": "2b2d8e2a77be7e02c68eb23169c3532130899ac6652a93bada179ed83d2527d2"
   }
  }
 },
 "nbformat": 4,
 "nbformat_minor": 2
}
