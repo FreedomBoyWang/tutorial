{
 "cells": [
  {
   "attachments": {},
   "cell_type": "markdown",
   "metadata": {},
   "source": [
    "## plotly参数说明"
   ]
  },
  {
   "attachments": {},
   "cell_type": "markdown",
   "metadata": {},
   "source": [
    "### 图表类型\n",
    "Angularaxis：极坐标图表  \n",
    "Area：区域图表  \n",
    "Bar：条形图  \n",
    "Box：盒形图，又称箱线图、盒子图、箱图  \n",
    "Candlestick与OHLC：金融行业常用的K线图和OHLC曲线图  \n",
    "ColorBar：彩条图  \n",
    "Contour：轮廓图，又称等高线图  \n",
    "Choropleth：等值线图  \n",
    "Line：线形图  \n",
    "Heatmap：热点图  \n",
    "Histogram：直方图  \n",
    "Histogram 2d：2D平面直方图  \n",
    "Histogram 2d Contour：二维轮廓直方图  \n",
    "Pie：饼图，又称扇形图  \n",
    "Scatter：坐标分布图，包括散点图和线形图  "
   ]
  },
  {
   "attachments": {},
   "cell_type": "markdown",
   "metadata": {},
   "source": [
    "### 线参数\n"
   ]
  },
  {
   "attachments": {},
   "cell_type": "markdown",
   "metadata": {},
   "source": [
    "#### data参数\n",
    "connectgaps：布尔变量，用于连接缺失数据；  \n",
    "dx、dy：x、y坐标轴的步进值，默认值是1；  \n",
    "error_x、error_y：x、y出错信息；  \n",
    "fillcolor：填充指定区域的颜色；  \n",
    "fill：设置要填充纯色的区域，默认为none(不填充)，其它设置项如下：  \n",
    "tozerox 和 tozeroy 分别表示填充曲线到x=0和y=0的区域；  \n",
    "tonextx 和 tonexty 分别表示填充曲线到x和y方向上的前一条曲线之间的区域，如果前面没有曲线，则效果同tozerox 和 tozeroy；  \n",
    "toself 表示将曲线的各端点连接成闭合的形状；  \n",
    "tonext 表示将2条曲线各端点均连接成闭合的形状，前提是一条曲线包围另一条曲线；  \n",
    "hoverinfo：当用户与图表交互时，鼠标指针显示的参数，包括：x、y、z (坐标轴数据)、text(文字信息)、name(图形名称)等参数的组合，可以使用 +、all、none 和 skip作为组合连接符，默认是all(全部消失)；  \n",
    "hoveron：当用户与图表交互时，鼠标指针显示的模式，共有3种模式：points(点图)、fill(填充图)、points+fill(点图+填充图)；  \n",
    "ids：在动画图表中，数据点和图形key键的列表参数；  \n",
    "legendgroup：图例参数，默认是空字符串；  \n",
    "line：线条参数，包括线条宽度、颜色、格式等，有如下设置项：  \n",
    "color：元组，元素为字符串颜色序列，设置对应图表节点的颜色；  \n",
    "width：数值，设置线条宽度；  \n",
    "dash：线条格式，包括：dash(虚短线)、dot(虚点)、dashdot(短线和点)；  \n",
    "shape：进行数据点的插值设置，即根据已有的零散数据点，找到一条满足一定条件的曲线，使之经过全部的数据点。共有6种插值方式：'linear'、'spline'、'hv'、'vh'、'hvh'和'vhv。  \n",
    "marker：数据节点参数，包括大小、颜色、格式等，有如下设置项：  \n",
    "size：列表，元素为相应节点的尺寸大小；  \n",
    "sizeref：缩放的比例，如设置为2，则缩小为原来的1/2；  \n",
    "sizemode：缩放的标准，默认以diameter(直径)缩放，也可选择以area(面积)缩放；  \n",
    "mode：图形格式，包括lines(线形图)、markers(散点图)、text(文本)。使用 + 或 none 等符号进行模式组合；  \n",
    "name：名称参数；  \n",
    "opacity：透明度参数，取值范围0～1，表示相应节点的透明度；  \n",
    "rsrc、xsrc、ysrc、tsrc、idssrc、textsrc、textpositionsrc：字符串源数组列表，作为Plotly网格标识符，用于设置特殊图表所需的r参数、x参数、y参数、t参数、ids参数、text(文本)参数、textposition(文本位置)参数等；  \n",
    "r、t：仅用于极坐标图，r用于设置径向坐标(半径)；t用于设置角坐标；  \n",
    "showlegend：布尔变量，默认True，设置显示图例名称。仅一条数据时，需要显式地声明才会显示图例；  \n",
    "showscale：布尔变量，设置是否显示颜色跟踪条，默认为False；  \n",
    "stream：数据流，用于实时显示数据图表；  \n",
    "textfont：文本字体参数，包括字体名称、颜色、大小等；  \n",
    "textposition：“文本”元素的位置参数，包括：top left(左上)、top center(中上)、top right(右上)、middle left(左中)、middle center(中心)、middle right(右中)、bottom left(左下)、bottom center(中下)、bottom、right(右下)模式，默认是middle center(中心)模式；\n",
    "text：文本数据，元素为相应节点的悬浮文字内容；  \n",
    "type：数据显示模式，包括：constant(常数)、percent(百分比)、sqrt(平方根)、array(数组)模式；  \n",
    "x0、y0：坐标轴起点坐标；  \n",
    "xcalendar、ycalendar：坐标时间参数的格式，默认是公历；  \n",
    "x，y：设置x、y轴的坐标数据；  \n"
   ]
  },
  {
   "attachments": {},
   "cell_type": "markdown",
   "metadata": {},
   "source": [
    "#### layout参数\n",
    "1. title:  \n",
    "    text：字符串，标题内容；  \n",
    "    font：设置标题字体。包含：字体、颜色、大小等；  \n",
    "    x、y：取值0～1之间，设置在标准化坐标中位置，0.5为居中；  \n",
    "    xanchor：设置标题相对于x位置的水平对齐方式，有如下取值：\"auto\" | \"left\" | \"center\" | \"right\" ；  \n",
    "    yanchor：设置标题相对于y位置的垂直对齐方式，有如下取值：\"auto\" | \"top\" | \"middle\" | \"bottom\" ；  \n",
    "    pad：设置标题的填充。  \n",
    "2. legend\n",
    "    x、y：数值，表示图例在坐标内的位置；  \n",
    "    bordercolor：设置图例外边框颜色；  \n",
    "    borderwidth：设置图例外边框的线条宽度；  \n",
    "3. width、height设置图表画布的宽高\n",
    "4. paper_bgcolor：设置绘制图形的纸张颜色。默认值：\"#fff\" ；\n",
    "5. plot_bgcolor：设置x轴和y轴之间的绘图区域的颜色。默认值：\"#fff\" ；\n",
    "6. margin 设置 图表的页面边距。\n",
    "   1) 主要的4个参数：l、r、t、b，分别对应：左右上下，除了上(t)默认值为100，其它默认值均为80；\n",
    "   2) pad：设置绘图区域和轴线之间的填充量，默认值为0；\n",
    "   3) autoexpand：布尔型，表示是否默认自动；\n",
    "7. dragmode：设置拖动交互的模式，默认为\"zoom\" ，包括： \"zoom\" | \"pan\" | \"select\" | \"lasso\" | \"orbit\" | \"turntable\" | False。“select”和“lasso”仅适用于使用标记或文本散布痕迹。“轨道”和“转盘”仅适用于3D场景；\n",
    "8. xaxis、yaxis：设置x、y 坐标轴参数，包括如下设置项：\n",
    "    title：设置坐标轴的标题，包括标题内容、字体、颜色、大小等；  \n",
    "    tickformat：设置刻度线标签格式，如：',' 可以显示千分位标示；'YYYY-MM-DD'可以将日期格式化为类似 2019-01-01；  \n",
    "    ticksuffix：设置刻度标签后缀字符串；  \n",
    "    tickprefix：设置刻度标签前缀字符串；  \n",
    "    type：设置轴类型。默认情况下('-')，通过查看引用相关轴的迹线数据，尝试确定轴类型，有如下取值：\"-\" | \"linear\" | \"log\" | \"date\" | \"category\" | \"multicategory\"  \n",
    "    showline：布尔值，确定是否显示坐标轴直线；  \n",
    "    zeroline : 布尔值，确定是否在该轴的0值处绘制垂直的直线；  \n",
    "    linecolor：坐标轴线的颜色；  \n",
    "    linewidth：坐标轴线的宽度；  \n",
    "    range：列表，设置坐标轴的取值范围；  \n",
    "    overlaying：设置相同的坐标轴id(双坐标)；  \n",
    "    rangemode：根据输入数据的极值计算范围。默认为\"normal\"，取值为“tozero”`，则范围扩展为0，无论输入数据是否为“非负”，无论输入数据如何，范围都是非负的。目前笔者用到过的场景：双Y坐标轴时，实现Y轴的0刻度线对齐；  \n",
    "    side：设置坐标轴在绘图区域的位置，共4个取值：top、bottom(默认)、left、right；  \n",
    "    autotick：布尔变量，是否删除部分日期，False为保持原状；  \n",
    "    ticks：是否绘制刻度线，包括：outside(外部)、inside(内部)，默认为空(' ')，不显示刻度线；  \n",
    "    ticklen：设置刻度线长度，默认为5；  \n",
    "    tickwidth：设置刻度线宽度，默认为1；  \n",
    "    tickcolor：设置刻度线颜色，默认值：\"#444\" ；  \n",
    "    tickfont：设置刻度线标签字体，包括字体、颜色、大小；  \n",
    "    nticks：设置坐标轴的最大刻度个数；  \n",
    "    showticklabels：布尔变量，默认为True，确定是否绘制刻度标签；  \n",
    "    showgrid：布尔值，确定是否绘制网格线。如果为“True”，则在每个刻度线处绘制网格线；  \n",
    "    gridcolor：设置网格线的颜色；  \n",
    "    gridwidth：设置网格线的宽度；\n",
    "9. sliders"
   ]
  },
  {
   "cell_type": "markdown",
   "metadata": {},
   "source": [
    "## 代码模板"
   ]
  },
  {
   "cell_type": "code",
   "execution_count": 1,
   "metadata": {},
   "outputs": [
    {
     "data": {
      "text/html": [
       "        <script type=\"text/javascript\">\n",
       "        window.PlotlyConfig = {MathJaxConfig: 'local'};\n",
       "        if (window.MathJax && window.MathJax.Hub && window.MathJax.Hub.Config) {window.MathJax.Hub.Config({SVG: {font: \"STIX-Web\"}});}\n",
       "        if (typeof require !== 'undefined') {\n",
       "        require.undef(\"plotly\");\n",
       "        requirejs.config({\n",
       "            paths: {\n",
       "                'plotly': ['https://cdn.plot.ly/plotly-2.12.1.min']\n",
       "            }\n",
       "        });\n",
       "        require(['plotly'], function(Plotly) {\n",
       "            window._Plotly = Plotly;\n",
       "        });\n",
       "        }\n",
       "        </script>\n",
       "        "
      ]
     },
     "metadata": {},
     "output_type": "display_data"
    }
   ],
   "source": [
    "import plotly.graph_objs as go\n",
    "import numpy as np\n",
    "import pandas as pd\n",
    "from plotly.offline import init_notebook_mode, iplot\n",
    "init_notebook_mode(connected=True) # 离线刷新kernel"
   ]
  },
  {
   "cell_type": "code",
   "execution_count": 2,
   "metadata": {
    "tags": []
   },
   "outputs": [],
   "source": [
    "df=pd.DataFrame(np.random.randint(100,size=(100,100)))\n",
    "df=df.sort_values(by=[0])"
   ]
  },
  {
   "cell_type": "code",
   "execution_count": 83,
   "metadata": {
    "tags": [
     "parameters"
    ]
   },
   "outputs": [],
   "source": [
    "# 添加layout\n",
    "xaxis= dict(title= 'X',ticklen= 5,zeroline= False)\n",
    "yaxis= dict(title= 'Y',ticklen= 5,zeroline= False)\n",
    "layout = dict(title = 'title',xaxis= xaxis,yaxis=yaxis)\n",
    "data=[]"
   ]
  },
  {
   "cell_type": "code",
   "execution_count": 84,
   "metadata": {
    "tags": [
     "data"
    ]
   },
   "outputs": [],
   "source": [
    "# 自定义data\n",
    "trace1 = go.Scatter(\n",
    "                    x = df[0],\n",
    "                    y = df[1],\n",
    "                    mode = \"lines\",\n",
    "                    name = \"线名称\",\n",
    "                    marker = dict(color = 'rgba(16, 112, 2, 0.8)'), \n",
    "                    text= df[0])\n",
    "\n",
    "data.append(trace1)\n"
   ]
  },
  {
   "cell_type": "code",
   "execution_count": 85,
   "metadata": {},
   "outputs": [],
   "source": [
    "# 自定义data\n",
    "trace1 = go.Scatter(\n",
    "                    x = df[0],\n",
    "                    y = df[2],\n",
    "                    mode = \"lines+markers\",\n",
    "                    name = \"线名称2\",\n",
    "                    marker = dict(color = 'rgba(216, 112, 2, 0.8)'), \n",
    "                    text= df[0])\n",
    "\n",
    "data.append(trace1)"
   ]
  },
  {
   "cell_type": "code",
   "execution_count": 86,
   "metadata": {},
   "outputs": [
    {
     "data": {
      "application/vnd.plotly.v1+json": {
       "config": {
        "linkText": "Export to plot.ly",
        "plotlyServerURL": "https://plot.ly",
        "showLink": false
       },
       "data": [
        {
         "marker": {
          "color": "rgba(16, 112, 2, 0.8)"
         },
         "mode": "lines",
         "name": "线名称",
         "text": [
          3,
          4,
          4,
          5,
          5,
          6,
          8,
          9,
          9,
          10,
          10,
          10,
          10,
          12,
          14,
          14,
          16,
          17,
          18,
          19,
          19,
          20,
          20,
          22,
          23,
          24,
          25,
          25,
          26,
          28,
          28,
          29,
          29,
          29,
          33,
          34,
          34,
          35,
          36,
          36,
          37,
          39,
          39,
          39,
          39,
          44,
          45,
          45,
          45,
          45,
          47,
          49,
          49,
          50,
          51,
          53,
          56,
          56,
          56,
          58,
          58,
          59,
          61,
          61,
          62,
          64,
          64,
          65,
          65,
          65,
          67,
          67,
          67,
          70,
          71,
          72,
          72,
          73,
          74,
          74,
          76,
          76,
          78,
          78,
          79,
          82,
          83,
          84,
          84,
          85,
          89,
          92,
          93,
          93,
          93,
          93,
          95,
          96,
          99,
          99
         ],
         "type": "scatter",
         "x": [
          3,
          4,
          4,
          5,
          5,
          6,
          8,
          9,
          9,
          10,
          10,
          10,
          10,
          12,
          14,
          14,
          16,
          17,
          18,
          19,
          19,
          20,
          20,
          22,
          23,
          24,
          25,
          25,
          26,
          28,
          28,
          29,
          29,
          29,
          33,
          34,
          34,
          35,
          36,
          36,
          37,
          39,
          39,
          39,
          39,
          44,
          45,
          45,
          45,
          45,
          47,
          49,
          49,
          50,
          51,
          53,
          56,
          56,
          56,
          58,
          58,
          59,
          61,
          61,
          62,
          64,
          64,
          65,
          65,
          65,
          67,
          67,
          67,
          70,
          71,
          72,
          72,
          73,
          74,
          74,
          76,
          76,
          78,
          78,
          79,
          82,
          83,
          84,
          84,
          85,
          89,
          92,
          93,
          93,
          93,
          93,
          95,
          96,
          99,
          99
         ],
         "y": [
          22,
          26,
          40,
          55,
          14,
          71,
          32,
          79,
          66,
          64,
          70,
          97,
          51,
          74,
          72,
          31,
          18,
          44,
          34,
          34,
          27,
          8,
          64,
          47,
          43,
          68,
          39,
          25,
          30,
          15,
          32,
          93,
          90,
          29,
          56,
          97,
          6,
          29,
          96,
          98,
          35,
          13,
          82,
          63,
          1,
          22,
          4,
          12,
          99,
          51,
          90,
          53,
          38,
          55,
          33,
          26,
          65,
          0,
          57,
          62,
          73,
          27,
          97,
          33,
          20,
          59,
          12,
          48,
          35,
          76,
          65,
          80,
          4,
          0,
          75,
          58,
          34,
          3,
          71,
          79,
          69,
          45,
          84,
          17,
          31,
          82,
          82,
          68,
          1,
          30,
          22,
          56,
          21,
          63,
          60,
          27,
          87,
          57,
          38,
          88
         ]
        },
        {
         "marker": {
          "color": "rgba(216, 112, 2, 0.8)"
         },
         "mode": "lines+markers",
         "name": "线名称2",
         "text": [
          3,
          4,
          4,
          5,
          5,
          6,
          8,
          9,
          9,
          10,
          10,
          10,
          10,
          12,
          14,
          14,
          16,
          17,
          18,
          19,
          19,
          20,
          20,
          22,
          23,
          24,
          25,
          25,
          26,
          28,
          28,
          29,
          29,
          29,
          33,
          34,
          34,
          35,
          36,
          36,
          37,
          39,
          39,
          39,
          39,
          44,
          45,
          45,
          45,
          45,
          47,
          49,
          49,
          50,
          51,
          53,
          56,
          56,
          56,
          58,
          58,
          59,
          61,
          61,
          62,
          64,
          64,
          65,
          65,
          65,
          67,
          67,
          67,
          70,
          71,
          72,
          72,
          73,
          74,
          74,
          76,
          76,
          78,
          78,
          79,
          82,
          83,
          84,
          84,
          85,
          89,
          92,
          93,
          93,
          93,
          93,
          95,
          96,
          99,
          99
         ],
         "type": "scatter",
         "x": [
          3,
          4,
          4,
          5,
          5,
          6,
          8,
          9,
          9,
          10,
          10,
          10,
          10,
          12,
          14,
          14,
          16,
          17,
          18,
          19,
          19,
          20,
          20,
          22,
          23,
          24,
          25,
          25,
          26,
          28,
          28,
          29,
          29,
          29,
          33,
          34,
          34,
          35,
          36,
          36,
          37,
          39,
          39,
          39,
          39,
          44,
          45,
          45,
          45,
          45,
          47,
          49,
          49,
          50,
          51,
          53,
          56,
          56,
          56,
          58,
          58,
          59,
          61,
          61,
          62,
          64,
          64,
          65,
          65,
          65,
          67,
          67,
          67,
          70,
          71,
          72,
          72,
          73,
          74,
          74,
          76,
          76,
          78,
          78,
          79,
          82,
          83,
          84,
          84,
          85,
          89,
          92,
          93,
          93,
          93,
          93,
          95,
          96,
          99,
          99
         ],
         "y": [
          54,
          12,
          74,
          11,
          95,
          87,
          48,
          11,
          84,
          47,
          35,
          2,
          28,
          57,
          7,
          57,
          65,
          35,
          26,
          61,
          89,
          80,
          16,
          99,
          79,
          57,
          49,
          79,
          13,
          5,
          85,
          64,
          83,
          6,
          53,
          56,
          9,
          49,
          92,
          99,
          62,
          41,
          56,
          16,
          64,
          46,
          35,
          32,
          67,
          95,
          0,
          90,
          49,
          81,
          25,
          73,
          55,
          32,
          7,
          20,
          41,
          32,
          42,
          83,
          3,
          22,
          70,
          35,
          61,
          4,
          4,
          15,
          38,
          1,
          90,
          12,
          94,
          94,
          91,
          42,
          31,
          32,
          37,
          27,
          16,
          13,
          22,
          64,
          20,
          67,
          31,
          73,
          82,
          21,
          24,
          21,
          98,
          89,
          49,
          20
         ]
        }
       ],
       "layout": {
        "template": {
         "data": {
          "bar": [
           {
            "error_x": {
             "color": "#2a3f5f"
            },
            "error_y": {
             "color": "#2a3f5f"
            },
            "marker": {
             "line": {
              "color": "#E5ECF6",
              "width": 0.5
             },
             "pattern": {
              "fillmode": "overlay",
              "size": 10,
              "solidity": 0.2
             }
            },
            "type": "bar"
           }
          ],
          "barpolar": [
           {
            "marker": {
             "line": {
              "color": "#E5ECF6",
              "width": 0.5
             },
             "pattern": {
              "fillmode": "overlay",
              "size": 10,
              "solidity": 0.2
             }
            },
            "type": "barpolar"
           }
          ],
          "carpet": [
           {
            "aaxis": {
             "endlinecolor": "#2a3f5f",
             "gridcolor": "white",
             "linecolor": "white",
             "minorgridcolor": "white",
             "startlinecolor": "#2a3f5f"
            },
            "baxis": {
             "endlinecolor": "#2a3f5f",
             "gridcolor": "white",
             "linecolor": "white",
             "minorgridcolor": "white",
             "startlinecolor": "#2a3f5f"
            },
            "type": "carpet"
           }
          ],
          "choropleth": [
           {
            "colorbar": {
             "outlinewidth": 0,
             "ticks": ""
            },
            "type": "choropleth"
           }
          ],
          "contour": [
           {
            "colorbar": {
             "outlinewidth": 0,
             "ticks": ""
            },
            "colorscale": [
             [
              0,
              "#0d0887"
             ],
             [
              0.1111111111111111,
              "#46039f"
             ],
             [
              0.2222222222222222,
              "#7201a8"
             ],
             [
              0.3333333333333333,
              "#9c179e"
             ],
             [
              0.4444444444444444,
              "#bd3786"
             ],
             [
              0.5555555555555556,
              "#d8576b"
             ],
             [
              0.6666666666666666,
              "#ed7953"
             ],
             [
              0.7777777777777778,
              "#fb9f3a"
             ],
             [
              0.8888888888888888,
              "#fdca26"
             ],
             [
              1,
              "#f0f921"
             ]
            ],
            "type": "contour"
           }
          ],
          "contourcarpet": [
           {
            "colorbar": {
             "outlinewidth": 0,
             "ticks": ""
            },
            "type": "contourcarpet"
           }
          ],
          "heatmap": [
           {
            "colorbar": {
             "outlinewidth": 0,
             "ticks": ""
            },
            "colorscale": [
             [
              0,
              "#0d0887"
             ],
             [
              0.1111111111111111,
              "#46039f"
             ],
             [
              0.2222222222222222,
              "#7201a8"
             ],
             [
              0.3333333333333333,
              "#9c179e"
             ],
             [
              0.4444444444444444,
              "#bd3786"
             ],
             [
              0.5555555555555556,
              "#d8576b"
             ],
             [
              0.6666666666666666,
              "#ed7953"
             ],
             [
              0.7777777777777778,
              "#fb9f3a"
             ],
             [
              0.8888888888888888,
              "#fdca26"
             ],
             [
              1,
              "#f0f921"
             ]
            ],
            "type": "heatmap"
           }
          ],
          "heatmapgl": [
           {
            "colorbar": {
             "outlinewidth": 0,
             "ticks": ""
            },
            "colorscale": [
             [
              0,
              "#0d0887"
             ],
             [
              0.1111111111111111,
              "#46039f"
             ],
             [
              0.2222222222222222,
              "#7201a8"
             ],
             [
              0.3333333333333333,
              "#9c179e"
             ],
             [
              0.4444444444444444,
              "#bd3786"
             ],
             [
              0.5555555555555556,
              "#d8576b"
             ],
             [
              0.6666666666666666,
              "#ed7953"
             ],
             [
              0.7777777777777778,
              "#fb9f3a"
             ],
             [
              0.8888888888888888,
              "#fdca26"
             ],
             [
              1,
              "#f0f921"
             ]
            ],
            "type": "heatmapgl"
           }
          ],
          "histogram": [
           {
            "marker": {
             "pattern": {
              "fillmode": "overlay",
              "size": 10,
              "solidity": 0.2
             }
            },
            "type": "histogram"
           }
          ],
          "histogram2d": [
           {
            "colorbar": {
             "outlinewidth": 0,
             "ticks": ""
            },
            "colorscale": [
             [
              0,
              "#0d0887"
             ],
             [
              0.1111111111111111,
              "#46039f"
             ],
             [
              0.2222222222222222,
              "#7201a8"
             ],
             [
              0.3333333333333333,
              "#9c179e"
             ],
             [
              0.4444444444444444,
              "#bd3786"
             ],
             [
              0.5555555555555556,
              "#d8576b"
             ],
             [
              0.6666666666666666,
              "#ed7953"
             ],
             [
              0.7777777777777778,
              "#fb9f3a"
             ],
             [
              0.8888888888888888,
              "#fdca26"
             ],
             [
              1,
              "#f0f921"
             ]
            ],
            "type": "histogram2d"
           }
          ],
          "histogram2dcontour": [
           {
            "colorbar": {
             "outlinewidth": 0,
             "ticks": ""
            },
            "colorscale": [
             [
              0,
              "#0d0887"
             ],
             [
              0.1111111111111111,
              "#46039f"
             ],
             [
              0.2222222222222222,
              "#7201a8"
             ],
             [
              0.3333333333333333,
              "#9c179e"
             ],
             [
              0.4444444444444444,
              "#bd3786"
             ],
             [
              0.5555555555555556,
              "#d8576b"
             ],
             [
              0.6666666666666666,
              "#ed7953"
             ],
             [
              0.7777777777777778,
              "#fb9f3a"
             ],
             [
              0.8888888888888888,
              "#fdca26"
             ],
             [
              1,
              "#f0f921"
             ]
            ],
            "type": "histogram2dcontour"
           }
          ],
          "mesh3d": [
           {
            "colorbar": {
             "outlinewidth": 0,
             "ticks": ""
            },
            "type": "mesh3d"
           }
          ],
          "parcoords": [
           {
            "line": {
             "colorbar": {
              "outlinewidth": 0,
              "ticks": ""
             }
            },
            "type": "parcoords"
           }
          ],
          "pie": [
           {
            "automargin": true,
            "type": "pie"
           }
          ],
          "scatter": [
           {
            "fillpattern": {
             "fillmode": "overlay",
             "size": 10,
             "solidity": 0.2
            },
            "type": "scatter"
           }
          ],
          "scatter3d": [
           {
            "line": {
             "colorbar": {
              "outlinewidth": 0,
              "ticks": ""
             }
            },
            "marker": {
             "colorbar": {
              "outlinewidth": 0,
              "ticks": ""
             }
            },
            "type": "scatter3d"
           }
          ],
          "scattercarpet": [
           {
            "marker": {
             "colorbar": {
              "outlinewidth": 0,
              "ticks": ""
             }
            },
            "type": "scattercarpet"
           }
          ],
          "scattergeo": [
           {
            "marker": {
             "colorbar": {
              "outlinewidth": 0,
              "ticks": ""
             }
            },
            "type": "scattergeo"
           }
          ],
          "scattergl": [
           {
            "marker": {
             "colorbar": {
              "outlinewidth": 0,
              "ticks": ""
             }
            },
            "type": "scattergl"
           }
          ],
          "scattermapbox": [
           {
            "marker": {
             "colorbar": {
              "outlinewidth": 0,
              "ticks": ""
             }
            },
            "type": "scattermapbox"
           }
          ],
          "scatterpolar": [
           {
            "marker": {
             "colorbar": {
              "outlinewidth": 0,
              "ticks": ""
             }
            },
            "type": "scatterpolar"
           }
          ],
          "scatterpolargl": [
           {
            "marker": {
             "colorbar": {
              "outlinewidth": 0,
              "ticks": ""
             }
            },
            "type": "scatterpolargl"
           }
          ],
          "scatterternary": [
           {
            "marker": {
             "colorbar": {
              "outlinewidth": 0,
              "ticks": ""
             }
            },
            "type": "scatterternary"
           }
          ],
          "surface": [
           {
            "colorbar": {
             "outlinewidth": 0,
             "ticks": ""
            },
            "colorscale": [
             [
              0,
              "#0d0887"
             ],
             [
              0.1111111111111111,
              "#46039f"
             ],
             [
              0.2222222222222222,
              "#7201a8"
             ],
             [
              0.3333333333333333,
              "#9c179e"
             ],
             [
              0.4444444444444444,
              "#bd3786"
             ],
             [
              0.5555555555555556,
              "#d8576b"
             ],
             [
              0.6666666666666666,
              "#ed7953"
             ],
             [
              0.7777777777777778,
              "#fb9f3a"
             ],
             [
              0.8888888888888888,
              "#fdca26"
             ],
             [
              1,
              "#f0f921"
             ]
            ],
            "type": "surface"
           }
          ],
          "table": [
           {
            "cells": {
             "fill": {
              "color": "#EBF0F8"
             },
             "line": {
              "color": "white"
             }
            },
            "header": {
             "fill": {
              "color": "#C8D4E3"
             },
             "line": {
              "color": "white"
             }
            },
            "type": "table"
           }
          ]
         },
         "layout": {
          "annotationdefaults": {
           "arrowcolor": "#2a3f5f",
           "arrowhead": 0,
           "arrowwidth": 1
          },
          "autotypenumbers": "strict",
          "coloraxis": {
           "colorbar": {
            "outlinewidth": 0,
            "ticks": ""
           }
          },
          "colorscale": {
           "diverging": [
            [
             0,
             "#8e0152"
            ],
            [
             0.1,
             "#c51b7d"
            ],
            [
             0.2,
             "#de77ae"
            ],
            [
             0.3,
             "#f1b6da"
            ],
            [
             0.4,
             "#fde0ef"
            ],
            [
             0.5,
             "#f7f7f7"
            ],
            [
             0.6,
             "#e6f5d0"
            ],
            [
             0.7,
             "#b8e186"
            ],
            [
             0.8,
             "#7fbc41"
            ],
            [
             0.9,
             "#4d9221"
            ],
            [
             1,
             "#276419"
            ]
           ],
           "sequential": [
            [
             0,
             "#0d0887"
            ],
            [
             0.1111111111111111,
             "#46039f"
            ],
            [
             0.2222222222222222,
             "#7201a8"
            ],
            [
             0.3333333333333333,
             "#9c179e"
            ],
            [
             0.4444444444444444,
             "#bd3786"
            ],
            [
             0.5555555555555556,
             "#d8576b"
            ],
            [
             0.6666666666666666,
             "#ed7953"
            ],
            [
             0.7777777777777778,
             "#fb9f3a"
            ],
            [
             0.8888888888888888,
             "#fdca26"
            ],
            [
             1,
             "#f0f921"
            ]
           ],
           "sequentialminus": [
            [
             0,
             "#0d0887"
            ],
            [
             0.1111111111111111,
             "#46039f"
            ],
            [
             0.2222222222222222,
             "#7201a8"
            ],
            [
             0.3333333333333333,
             "#9c179e"
            ],
            [
             0.4444444444444444,
             "#bd3786"
            ],
            [
             0.5555555555555556,
             "#d8576b"
            ],
            [
             0.6666666666666666,
             "#ed7953"
            ],
            [
             0.7777777777777778,
             "#fb9f3a"
            ],
            [
             0.8888888888888888,
             "#fdca26"
            ],
            [
             1,
             "#f0f921"
            ]
           ]
          },
          "colorway": [
           "#636efa",
           "#EF553B",
           "#00cc96",
           "#ab63fa",
           "#FFA15A",
           "#19d3f3",
           "#FF6692",
           "#B6E880",
           "#FF97FF",
           "#FECB52"
          ],
          "font": {
           "color": "#2a3f5f"
          },
          "geo": {
           "bgcolor": "white",
           "lakecolor": "white",
           "landcolor": "#E5ECF6",
           "showlakes": true,
           "showland": true,
           "subunitcolor": "white"
          },
          "hoverlabel": {
           "align": "left"
          },
          "hovermode": "closest",
          "mapbox": {
           "style": "light"
          },
          "paper_bgcolor": "white",
          "plot_bgcolor": "#E5ECF6",
          "polar": {
           "angularaxis": {
            "gridcolor": "white",
            "linecolor": "white",
            "ticks": ""
           },
           "bgcolor": "#E5ECF6",
           "radialaxis": {
            "gridcolor": "white",
            "linecolor": "white",
            "ticks": ""
           }
          },
          "scene": {
           "xaxis": {
            "backgroundcolor": "#E5ECF6",
            "gridcolor": "white",
            "gridwidth": 2,
            "linecolor": "white",
            "showbackground": true,
            "ticks": "",
            "zerolinecolor": "white"
           },
           "yaxis": {
            "backgroundcolor": "#E5ECF6",
            "gridcolor": "white",
            "gridwidth": 2,
            "linecolor": "white",
            "showbackground": true,
            "ticks": "",
            "zerolinecolor": "white"
           },
           "zaxis": {
            "backgroundcolor": "#E5ECF6",
            "gridcolor": "white",
            "gridwidth": 2,
            "linecolor": "white",
            "showbackground": true,
            "ticks": "",
            "zerolinecolor": "white"
           }
          },
          "shapedefaults": {
           "line": {
            "color": "#2a3f5f"
           }
          },
          "ternary": {
           "aaxis": {
            "gridcolor": "white",
            "linecolor": "white",
            "ticks": ""
           },
           "baxis": {
            "gridcolor": "white",
            "linecolor": "white",
            "ticks": ""
           },
           "bgcolor": "#E5ECF6",
           "caxis": {
            "gridcolor": "white",
            "linecolor": "white",
            "ticks": ""
           }
          },
          "title": {
           "x": 0.05
          },
          "xaxis": {
           "automargin": true,
           "gridcolor": "white",
           "linecolor": "white",
           "ticks": "",
           "title": {
            "standoff": 15
           },
           "zerolinecolor": "white",
           "zerolinewidth": 2
          },
          "yaxis": {
           "automargin": true,
           "gridcolor": "white",
           "linecolor": "white",
           "ticks": "",
           "title": {
            "standoff": 15
           },
           "zerolinecolor": "white",
           "zerolinewidth": 2
          }
         }
        },
        "title": {
         "text": "title"
        },
        "xaxis": {
         "ticklen": 5,
         "title": {
          "text": "X"
         },
         "zeroline": false
        },
        "yaxis": {
         "ticklen": 5,
         "title": {
          "text": "Y"
         },
         "zeroline": false
        }
       }
      },
      "text/html": [
       "<div>                            <div id=\"e9d4ac5a-d438-4805-b271-8c2d53edf509\" class=\"plotly-graph-div\" style=\"height:525px; width:100%;\"></div>            <script type=\"text/javascript\">                require([\"plotly\"], function(Plotly) {                    window.PLOTLYENV=window.PLOTLYENV || {};                                    if (document.getElementById(\"e9d4ac5a-d438-4805-b271-8c2d53edf509\")) {                    Plotly.newPlot(                        \"e9d4ac5a-d438-4805-b271-8c2d53edf509\",                        [{\"marker\":{\"color\":\"rgba(16, 112, 2, 0.8)\"},\"mode\":\"lines\",\"name\":\"\\u7ebf\\u540d\\u79f0\",\"text\":[3.0,4.0,4.0,5.0,5.0,6.0,8.0,9.0,9.0,10.0,10.0,10.0,10.0,12.0,14.0,14.0,16.0,17.0,18.0,19.0,19.0,20.0,20.0,22.0,23.0,24.0,25.0,25.0,26.0,28.0,28.0,29.0,29.0,29.0,33.0,34.0,34.0,35.0,36.0,36.0,37.0,39.0,39.0,39.0,39.0,44.0,45.0,45.0,45.0,45.0,47.0,49.0,49.0,50.0,51.0,53.0,56.0,56.0,56.0,58.0,58.0,59.0,61.0,61.0,62.0,64.0,64.0,65.0,65.0,65.0,67.0,67.0,67.0,70.0,71.0,72.0,72.0,73.0,74.0,74.0,76.0,76.0,78.0,78.0,79.0,82.0,83.0,84.0,84.0,85.0,89.0,92.0,93.0,93.0,93.0,93.0,95.0,96.0,99.0,99.0],\"x\":[3,4,4,5,5,6,8,9,9,10,10,10,10,12,14,14,16,17,18,19,19,20,20,22,23,24,25,25,26,28,28,29,29,29,33,34,34,35,36,36,37,39,39,39,39,44,45,45,45,45,47,49,49,50,51,53,56,56,56,58,58,59,61,61,62,64,64,65,65,65,67,67,67,70,71,72,72,73,74,74,76,76,78,78,79,82,83,84,84,85,89,92,93,93,93,93,95,96,99,99],\"y\":[22,26,40,55,14,71,32,79,66,64,70,97,51,74,72,31,18,44,34,34,27,8,64,47,43,68,39,25,30,15,32,93,90,29,56,97,6,29,96,98,35,13,82,63,1,22,4,12,99,51,90,53,38,55,33,26,65,0,57,62,73,27,97,33,20,59,12,48,35,76,65,80,4,0,75,58,34,3,71,79,69,45,84,17,31,82,82,68,1,30,22,56,21,63,60,27,87,57,38,88],\"type\":\"scatter\"},{\"marker\":{\"color\":\"rgba(216, 112, 2, 0.8)\"},\"mode\":\"lines+markers\",\"name\":\"\\u7ebf\\u540d\\u79f02\",\"text\":[3.0,4.0,4.0,5.0,5.0,6.0,8.0,9.0,9.0,10.0,10.0,10.0,10.0,12.0,14.0,14.0,16.0,17.0,18.0,19.0,19.0,20.0,20.0,22.0,23.0,24.0,25.0,25.0,26.0,28.0,28.0,29.0,29.0,29.0,33.0,34.0,34.0,35.0,36.0,36.0,37.0,39.0,39.0,39.0,39.0,44.0,45.0,45.0,45.0,45.0,47.0,49.0,49.0,50.0,51.0,53.0,56.0,56.0,56.0,58.0,58.0,59.0,61.0,61.0,62.0,64.0,64.0,65.0,65.0,65.0,67.0,67.0,67.0,70.0,71.0,72.0,72.0,73.0,74.0,74.0,76.0,76.0,78.0,78.0,79.0,82.0,83.0,84.0,84.0,85.0,89.0,92.0,93.0,93.0,93.0,93.0,95.0,96.0,99.0,99.0],\"x\":[3,4,4,5,5,6,8,9,9,10,10,10,10,12,14,14,16,17,18,19,19,20,20,22,23,24,25,25,26,28,28,29,29,29,33,34,34,35,36,36,37,39,39,39,39,44,45,45,45,45,47,49,49,50,51,53,56,56,56,58,58,59,61,61,62,64,64,65,65,65,67,67,67,70,71,72,72,73,74,74,76,76,78,78,79,82,83,84,84,85,89,92,93,93,93,93,95,96,99,99],\"y\":[54,12,74,11,95,87,48,11,84,47,35,2,28,57,7,57,65,35,26,61,89,80,16,99,79,57,49,79,13,5,85,64,83,6,53,56,9,49,92,99,62,41,56,16,64,46,35,32,67,95,0,90,49,81,25,73,55,32,7,20,41,32,42,83,3,22,70,35,61,4,4,15,38,1,90,12,94,94,91,42,31,32,37,27,16,13,22,64,20,67,31,73,82,21,24,21,98,89,49,20],\"type\":\"scatter\"}],                        {\"template\":{\"data\":{\"barpolar\":[{\"marker\":{\"line\":{\"color\":\"#E5ECF6\",\"width\":0.5},\"pattern\":{\"fillmode\":\"overlay\",\"size\":10,\"solidity\":0.2}},\"type\":\"barpolar\"}],\"bar\":[{\"error_x\":{\"color\":\"#2a3f5f\"},\"error_y\":{\"color\":\"#2a3f5f\"},\"marker\":{\"line\":{\"color\":\"#E5ECF6\",\"width\":0.5},\"pattern\":{\"fillmode\":\"overlay\",\"size\":10,\"solidity\":0.2}},\"type\":\"bar\"}],\"carpet\":[{\"aaxis\":{\"endlinecolor\":\"#2a3f5f\",\"gridcolor\":\"white\",\"linecolor\":\"white\",\"minorgridcolor\":\"white\",\"startlinecolor\":\"#2a3f5f\"},\"baxis\":{\"endlinecolor\":\"#2a3f5f\",\"gridcolor\":\"white\",\"linecolor\":\"white\",\"minorgridcolor\":\"white\",\"startlinecolor\":\"#2a3f5f\"},\"type\":\"carpet\"}],\"choropleth\":[{\"colorbar\":{\"outlinewidth\":0,\"ticks\":\"\"},\"type\":\"choropleth\"}],\"contourcarpet\":[{\"colorbar\":{\"outlinewidth\":0,\"ticks\":\"\"},\"type\":\"contourcarpet\"}],\"contour\":[{\"colorbar\":{\"outlinewidth\":0,\"ticks\":\"\"},\"colorscale\":[[0.0,\"#0d0887\"],[0.1111111111111111,\"#46039f\"],[0.2222222222222222,\"#7201a8\"],[0.3333333333333333,\"#9c179e\"],[0.4444444444444444,\"#bd3786\"],[0.5555555555555556,\"#d8576b\"],[0.6666666666666666,\"#ed7953\"],[0.7777777777777778,\"#fb9f3a\"],[0.8888888888888888,\"#fdca26\"],[1.0,\"#f0f921\"]],\"type\":\"contour\"}],\"heatmapgl\":[{\"colorbar\":{\"outlinewidth\":0,\"ticks\":\"\"},\"colorscale\":[[0.0,\"#0d0887\"],[0.1111111111111111,\"#46039f\"],[0.2222222222222222,\"#7201a8\"],[0.3333333333333333,\"#9c179e\"],[0.4444444444444444,\"#bd3786\"],[0.5555555555555556,\"#d8576b\"],[0.6666666666666666,\"#ed7953\"],[0.7777777777777778,\"#fb9f3a\"],[0.8888888888888888,\"#fdca26\"],[1.0,\"#f0f921\"]],\"type\":\"heatmapgl\"}],\"heatmap\":[{\"colorbar\":{\"outlinewidth\":0,\"ticks\":\"\"},\"colorscale\":[[0.0,\"#0d0887\"],[0.1111111111111111,\"#46039f\"],[0.2222222222222222,\"#7201a8\"],[0.3333333333333333,\"#9c179e\"],[0.4444444444444444,\"#bd3786\"],[0.5555555555555556,\"#d8576b\"],[0.6666666666666666,\"#ed7953\"],[0.7777777777777778,\"#fb9f3a\"],[0.8888888888888888,\"#fdca26\"],[1.0,\"#f0f921\"]],\"type\":\"heatmap\"}],\"histogram2dcontour\":[{\"colorbar\":{\"outlinewidth\":0,\"ticks\":\"\"},\"colorscale\":[[0.0,\"#0d0887\"],[0.1111111111111111,\"#46039f\"],[0.2222222222222222,\"#7201a8\"],[0.3333333333333333,\"#9c179e\"],[0.4444444444444444,\"#bd3786\"],[0.5555555555555556,\"#d8576b\"],[0.6666666666666666,\"#ed7953\"],[0.7777777777777778,\"#fb9f3a\"],[0.8888888888888888,\"#fdca26\"],[1.0,\"#f0f921\"]],\"type\":\"histogram2dcontour\"}],\"histogram2d\":[{\"colorbar\":{\"outlinewidth\":0,\"ticks\":\"\"},\"colorscale\":[[0.0,\"#0d0887\"],[0.1111111111111111,\"#46039f\"],[0.2222222222222222,\"#7201a8\"],[0.3333333333333333,\"#9c179e\"],[0.4444444444444444,\"#bd3786\"],[0.5555555555555556,\"#d8576b\"],[0.6666666666666666,\"#ed7953\"],[0.7777777777777778,\"#fb9f3a\"],[0.8888888888888888,\"#fdca26\"],[1.0,\"#f0f921\"]],\"type\":\"histogram2d\"}],\"histogram\":[{\"marker\":{\"pattern\":{\"fillmode\":\"overlay\",\"size\":10,\"solidity\":0.2}},\"type\":\"histogram\"}],\"mesh3d\":[{\"colorbar\":{\"outlinewidth\":0,\"ticks\":\"\"},\"type\":\"mesh3d\"}],\"parcoords\":[{\"line\":{\"colorbar\":{\"outlinewidth\":0,\"ticks\":\"\"}},\"type\":\"parcoords\"}],\"pie\":[{\"automargin\":true,\"type\":\"pie\"}],\"scatter3d\":[{\"line\":{\"colorbar\":{\"outlinewidth\":0,\"ticks\":\"\"}},\"marker\":{\"colorbar\":{\"outlinewidth\":0,\"ticks\":\"\"}},\"type\":\"scatter3d\"}],\"scattercarpet\":[{\"marker\":{\"colorbar\":{\"outlinewidth\":0,\"ticks\":\"\"}},\"type\":\"scattercarpet\"}],\"scattergeo\":[{\"marker\":{\"colorbar\":{\"outlinewidth\":0,\"ticks\":\"\"}},\"type\":\"scattergeo\"}],\"scattergl\":[{\"marker\":{\"colorbar\":{\"outlinewidth\":0,\"ticks\":\"\"}},\"type\":\"scattergl\"}],\"scattermapbox\":[{\"marker\":{\"colorbar\":{\"outlinewidth\":0,\"ticks\":\"\"}},\"type\":\"scattermapbox\"}],\"scatterpolargl\":[{\"marker\":{\"colorbar\":{\"outlinewidth\":0,\"ticks\":\"\"}},\"type\":\"scatterpolargl\"}],\"scatterpolar\":[{\"marker\":{\"colorbar\":{\"outlinewidth\":0,\"ticks\":\"\"}},\"type\":\"scatterpolar\"}],\"scatter\":[{\"fillpattern\":{\"fillmode\":\"overlay\",\"size\":10,\"solidity\":0.2},\"type\":\"scatter\"}],\"scatterternary\":[{\"marker\":{\"colorbar\":{\"outlinewidth\":0,\"ticks\":\"\"}},\"type\":\"scatterternary\"}],\"surface\":[{\"colorbar\":{\"outlinewidth\":0,\"ticks\":\"\"},\"colorscale\":[[0.0,\"#0d0887\"],[0.1111111111111111,\"#46039f\"],[0.2222222222222222,\"#7201a8\"],[0.3333333333333333,\"#9c179e\"],[0.4444444444444444,\"#bd3786\"],[0.5555555555555556,\"#d8576b\"],[0.6666666666666666,\"#ed7953\"],[0.7777777777777778,\"#fb9f3a\"],[0.8888888888888888,\"#fdca26\"],[1.0,\"#f0f921\"]],\"type\":\"surface\"}],\"table\":[{\"cells\":{\"fill\":{\"color\":\"#EBF0F8\"},\"line\":{\"color\":\"white\"}},\"header\":{\"fill\":{\"color\":\"#C8D4E3\"},\"line\":{\"color\":\"white\"}},\"type\":\"table\"}]},\"layout\":{\"annotationdefaults\":{\"arrowcolor\":\"#2a3f5f\",\"arrowhead\":0,\"arrowwidth\":1},\"autotypenumbers\":\"strict\",\"coloraxis\":{\"colorbar\":{\"outlinewidth\":0,\"ticks\":\"\"}},\"colorscale\":{\"diverging\":[[0,\"#8e0152\"],[0.1,\"#c51b7d\"],[0.2,\"#de77ae\"],[0.3,\"#f1b6da\"],[0.4,\"#fde0ef\"],[0.5,\"#f7f7f7\"],[0.6,\"#e6f5d0\"],[0.7,\"#b8e186\"],[0.8,\"#7fbc41\"],[0.9,\"#4d9221\"],[1,\"#276419\"]],\"sequential\":[[0.0,\"#0d0887\"],[0.1111111111111111,\"#46039f\"],[0.2222222222222222,\"#7201a8\"],[0.3333333333333333,\"#9c179e\"],[0.4444444444444444,\"#bd3786\"],[0.5555555555555556,\"#d8576b\"],[0.6666666666666666,\"#ed7953\"],[0.7777777777777778,\"#fb9f3a\"],[0.8888888888888888,\"#fdca26\"],[1.0,\"#f0f921\"]],\"sequentialminus\":[[0.0,\"#0d0887\"],[0.1111111111111111,\"#46039f\"],[0.2222222222222222,\"#7201a8\"],[0.3333333333333333,\"#9c179e\"],[0.4444444444444444,\"#bd3786\"],[0.5555555555555556,\"#d8576b\"],[0.6666666666666666,\"#ed7953\"],[0.7777777777777778,\"#fb9f3a\"],[0.8888888888888888,\"#fdca26\"],[1.0,\"#f0f921\"]]},\"colorway\":[\"#636efa\",\"#EF553B\",\"#00cc96\",\"#ab63fa\",\"#FFA15A\",\"#19d3f3\",\"#FF6692\",\"#B6E880\",\"#FF97FF\",\"#FECB52\"],\"font\":{\"color\":\"#2a3f5f\"},\"geo\":{\"bgcolor\":\"white\",\"lakecolor\":\"white\",\"landcolor\":\"#E5ECF6\",\"showlakes\":true,\"showland\":true,\"subunitcolor\":\"white\"},\"hoverlabel\":{\"align\":\"left\"},\"hovermode\":\"closest\",\"mapbox\":{\"style\":\"light\"},\"paper_bgcolor\":\"white\",\"plot_bgcolor\":\"#E5ECF6\",\"polar\":{\"angularaxis\":{\"gridcolor\":\"white\",\"linecolor\":\"white\",\"ticks\":\"\"},\"bgcolor\":\"#E5ECF6\",\"radialaxis\":{\"gridcolor\":\"white\",\"linecolor\":\"white\",\"ticks\":\"\"}},\"scene\":{\"xaxis\":{\"backgroundcolor\":\"#E5ECF6\",\"gridcolor\":\"white\",\"gridwidth\":2,\"linecolor\":\"white\",\"showbackground\":true,\"ticks\":\"\",\"zerolinecolor\":\"white\"},\"yaxis\":{\"backgroundcolor\":\"#E5ECF6\",\"gridcolor\":\"white\",\"gridwidth\":2,\"linecolor\":\"white\",\"showbackground\":true,\"ticks\":\"\",\"zerolinecolor\":\"white\"},\"zaxis\":{\"backgroundcolor\":\"#E5ECF6\",\"gridcolor\":\"white\",\"gridwidth\":2,\"linecolor\":\"white\",\"showbackground\":true,\"ticks\":\"\",\"zerolinecolor\":\"white\"}},\"shapedefaults\":{\"line\":{\"color\":\"#2a3f5f\"}},\"ternary\":{\"aaxis\":{\"gridcolor\":\"white\",\"linecolor\":\"white\",\"ticks\":\"\"},\"baxis\":{\"gridcolor\":\"white\",\"linecolor\":\"white\",\"ticks\":\"\"},\"bgcolor\":\"#E5ECF6\",\"caxis\":{\"gridcolor\":\"white\",\"linecolor\":\"white\",\"ticks\":\"\"}},\"title\":{\"x\":0.05},\"xaxis\":{\"automargin\":true,\"gridcolor\":\"white\",\"linecolor\":\"white\",\"ticks\":\"\",\"title\":{\"standoff\":15},\"zerolinecolor\":\"white\",\"zerolinewidth\":2},\"yaxis\":{\"automargin\":true,\"gridcolor\":\"white\",\"linecolor\":\"white\",\"ticks\":\"\",\"title\":{\"standoff\":15},\"zerolinecolor\":\"white\",\"zerolinewidth\":2}}},\"title\":{\"text\":\"title\"},\"xaxis\":{\"ticklen\":5,\"title\":{\"text\":\"X\"},\"zeroline\":false},\"yaxis\":{\"ticklen\":5,\"title\":{\"text\":\"Y\"},\"zeroline\":false}},                        {\"responsive\": true}                    ).then(function(){\n",
       "                            \n",
       "var gd = document.getElementById('e9d4ac5a-d438-4805-b271-8c2d53edf509');\n",
       "var x = new MutationObserver(function (mutations, observer) {{\n",
       "        var display = window.getComputedStyle(gd).display;\n",
       "        if (!display || display === 'none') {{\n",
       "            console.log([gd, 'removed!']);\n",
       "            Plotly.purge(gd);\n",
       "            observer.disconnect();\n",
       "        }}\n",
       "}});\n",
       "\n",
       "// Listen for the removal of the full notebook cells\n",
       "var notebookContainer = gd.closest('#notebook-container');\n",
       "if (notebookContainer) {{\n",
       "    x.observe(notebookContainer, {childList: true});\n",
       "}}\n",
       "\n",
       "// Listen for the clearing of the current output cell\n",
       "var outputEl = gd.closest('.output');\n",
       "if (outputEl) {{\n",
       "    x.observe(outputEl, {childList: true});\n",
       "}}\n",
       "\n",
       "                        })                };                });            </script>        </div>"
      ]
     },
     "metadata": {},
     "output_type": "display_data"
    }
   ],
   "source": [
    "# 绘图\n",
    "fig = go.Figure(dict(data = data, layout = layout))\n",
    "iplot(fig)"
   ]
  },
  {
   "cell_type": "code",
   "execution_count": 87,
   "metadata": {},
   "outputs": [
    {
     "data": {
      "application/vnd.plotly.v1+json": {
       "config": {
        "plotlyServerURL": "https://plot.ly"
       },
       "data": [
        {
         "marker": {
          "color": "rgba(16, 112, 2, 0.8)"
         },
         "mode": "lines",
         "name": "线名称",
         "text": [
          3,
          4,
          4,
          5,
          5,
          6,
          8,
          9,
          9,
          10,
          10,
          10,
          10,
          12,
          14,
          14,
          16,
          17,
          18,
          19,
          19,
          20,
          20,
          22,
          23,
          24,
          25,
          25,
          26,
          28,
          28,
          29,
          29,
          29,
          33,
          34,
          34,
          35,
          36,
          36,
          37,
          39,
          39,
          39,
          39,
          44,
          45,
          45,
          45,
          45,
          47,
          49,
          49,
          50,
          51,
          53,
          56,
          56,
          56,
          58,
          58,
          59,
          61,
          61,
          62,
          64,
          64,
          65,
          65,
          65,
          67,
          67,
          67,
          70,
          71,
          72,
          72,
          73,
          74,
          74,
          76,
          76,
          78,
          78,
          79,
          82,
          83,
          84,
          84,
          85,
          89,
          92,
          93,
          93,
          93,
          93,
          95,
          96,
          99,
          99
         ],
         "type": "scatter",
         "x": [
          3,
          4,
          4,
          5,
          5,
          6,
          8,
          9,
          9,
          10,
          10,
          10,
          10,
          12,
          14,
          14,
          16,
          17,
          18,
          19,
          19,
          20,
          20,
          22,
          23,
          24,
          25,
          25,
          26,
          28,
          28,
          29,
          29,
          29,
          33,
          34,
          34,
          35,
          36,
          36,
          37,
          39,
          39,
          39,
          39,
          44,
          45,
          45,
          45,
          45,
          47,
          49,
          49,
          50,
          51,
          53,
          56,
          56,
          56,
          58,
          58,
          59,
          61,
          61,
          62,
          64,
          64,
          65,
          65,
          65,
          67,
          67,
          67,
          70,
          71,
          72,
          72,
          73,
          74,
          74,
          76,
          76,
          78,
          78,
          79,
          82,
          83,
          84,
          84,
          85,
          89,
          92,
          93,
          93,
          93,
          93,
          95,
          96,
          99,
          99
         ],
         "y": [
          22,
          26,
          40,
          55,
          14,
          71,
          32,
          79,
          66,
          64,
          70,
          97,
          51,
          74,
          72,
          31,
          18,
          44,
          34,
          34,
          27,
          8,
          64,
          47,
          43,
          68,
          39,
          25,
          30,
          15,
          32,
          93,
          90,
          29,
          56,
          97,
          6,
          29,
          96,
          98,
          35,
          13,
          82,
          63,
          1,
          22,
          4,
          12,
          99,
          51,
          90,
          53,
          38,
          55,
          33,
          26,
          65,
          0,
          57,
          62,
          73,
          27,
          97,
          33,
          20,
          59,
          12,
          48,
          35,
          76,
          65,
          80,
          4,
          0,
          75,
          58,
          34,
          3,
          71,
          79,
          69,
          45,
          84,
          17,
          31,
          82,
          82,
          68,
          1,
          30,
          22,
          56,
          21,
          63,
          60,
          27,
          87,
          57,
          38,
          88
         ]
        },
        {
         "marker": {
          "color": "rgba(216, 112, 2, 0.8)"
         },
         "mode": "lines+markers",
         "name": "线名称2",
         "text": [
          3,
          4,
          4,
          5,
          5,
          6,
          8,
          9,
          9,
          10,
          10,
          10,
          10,
          12,
          14,
          14,
          16,
          17,
          18,
          19,
          19,
          20,
          20,
          22,
          23,
          24,
          25,
          25,
          26,
          28,
          28,
          29,
          29,
          29,
          33,
          34,
          34,
          35,
          36,
          36,
          37,
          39,
          39,
          39,
          39,
          44,
          45,
          45,
          45,
          45,
          47,
          49,
          49,
          50,
          51,
          53,
          56,
          56,
          56,
          58,
          58,
          59,
          61,
          61,
          62,
          64,
          64,
          65,
          65,
          65,
          67,
          67,
          67,
          70,
          71,
          72,
          72,
          73,
          74,
          74,
          76,
          76,
          78,
          78,
          79,
          82,
          83,
          84,
          84,
          85,
          89,
          92,
          93,
          93,
          93,
          93,
          95,
          96,
          99,
          99
         ],
         "type": "scatter",
         "x": [
          3,
          4,
          4,
          5,
          5,
          6,
          8,
          9,
          9,
          10,
          10,
          10,
          10,
          12,
          14,
          14,
          16,
          17,
          18,
          19,
          19,
          20,
          20,
          22,
          23,
          24,
          25,
          25,
          26,
          28,
          28,
          29,
          29,
          29,
          33,
          34,
          34,
          35,
          36,
          36,
          37,
          39,
          39,
          39,
          39,
          44,
          45,
          45,
          45,
          45,
          47,
          49,
          49,
          50,
          51,
          53,
          56,
          56,
          56,
          58,
          58,
          59,
          61,
          61,
          62,
          64,
          64,
          65,
          65,
          65,
          67,
          67,
          67,
          70,
          71,
          72,
          72,
          73,
          74,
          74,
          76,
          76,
          78,
          78,
          79,
          82,
          83,
          84,
          84,
          85,
          89,
          92,
          93,
          93,
          93,
          93,
          95,
          96,
          99,
          99
         ],
         "y": [
          54,
          12,
          74,
          11,
          95,
          87,
          48,
          11,
          84,
          47,
          35,
          2,
          28,
          57,
          7,
          57,
          65,
          35,
          26,
          61,
          89,
          80,
          16,
          99,
          79,
          57,
          49,
          79,
          13,
          5,
          85,
          64,
          83,
          6,
          53,
          56,
          9,
          49,
          92,
          99,
          62,
          41,
          56,
          16,
          64,
          46,
          35,
          32,
          67,
          95,
          0,
          90,
          49,
          81,
          25,
          73,
          55,
          32,
          7,
          20,
          41,
          32,
          42,
          83,
          3,
          22,
          70,
          35,
          61,
          4,
          4,
          15,
          38,
          1,
          90,
          12,
          94,
          94,
          91,
          42,
          31,
          32,
          37,
          27,
          16,
          13,
          22,
          64,
          20,
          67,
          31,
          73,
          82,
          21,
          24,
          21,
          98,
          89,
          49,
          20
         ]
        }
       ],
       "layout": {
        "template": {
         "data": {
          "bar": [
           {
            "error_x": {
             "color": "#2a3f5f"
            },
            "error_y": {
             "color": "#2a3f5f"
            },
            "marker": {
             "line": {
              "color": "#E5ECF6",
              "width": 0.5
             },
             "pattern": {
              "fillmode": "overlay",
              "size": 10,
              "solidity": 0.2
             }
            },
            "type": "bar"
           }
          ],
          "barpolar": [
           {
            "marker": {
             "line": {
              "color": "#E5ECF6",
              "width": 0.5
             },
             "pattern": {
              "fillmode": "overlay",
              "size": 10,
              "solidity": 0.2
             }
            },
            "type": "barpolar"
           }
          ],
          "carpet": [
           {
            "aaxis": {
             "endlinecolor": "#2a3f5f",
             "gridcolor": "white",
             "linecolor": "white",
             "minorgridcolor": "white",
             "startlinecolor": "#2a3f5f"
            },
            "baxis": {
             "endlinecolor": "#2a3f5f",
             "gridcolor": "white",
             "linecolor": "white",
             "minorgridcolor": "white",
             "startlinecolor": "#2a3f5f"
            },
            "type": "carpet"
           }
          ],
          "choropleth": [
           {
            "colorbar": {
             "outlinewidth": 0,
             "ticks": ""
            },
            "type": "choropleth"
           }
          ],
          "contour": [
           {
            "colorbar": {
             "outlinewidth": 0,
             "ticks": ""
            },
            "colorscale": [
             [
              0,
              "#0d0887"
             ],
             [
              0.1111111111111111,
              "#46039f"
             ],
             [
              0.2222222222222222,
              "#7201a8"
             ],
             [
              0.3333333333333333,
              "#9c179e"
             ],
             [
              0.4444444444444444,
              "#bd3786"
             ],
             [
              0.5555555555555556,
              "#d8576b"
             ],
             [
              0.6666666666666666,
              "#ed7953"
             ],
             [
              0.7777777777777778,
              "#fb9f3a"
             ],
             [
              0.8888888888888888,
              "#fdca26"
             ],
             [
              1,
              "#f0f921"
             ]
            ],
            "type": "contour"
           }
          ],
          "contourcarpet": [
           {
            "colorbar": {
             "outlinewidth": 0,
             "ticks": ""
            },
            "type": "contourcarpet"
           }
          ],
          "heatmap": [
           {
            "colorbar": {
             "outlinewidth": 0,
             "ticks": ""
            },
            "colorscale": [
             [
              0,
              "#0d0887"
             ],
             [
              0.1111111111111111,
              "#46039f"
             ],
             [
              0.2222222222222222,
              "#7201a8"
             ],
             [
              0.3333333333333333,
              "#9c179e"
             ],
             [
              0.4444444444444444,
              "#bd3786"
             ],
             [
              0.5555555555555556,
              "#d8576b"
             ],
             [
              0.6666666666666666,
              "#ed7953"
             ],
             [
              0.7777777777777778,
              "#fb9f3a"
             ],
             [
              0.8888888888888888,
              "#fdca26"
             ],
             [
              1,
              "#f0f921"
             ]
            ],
            "type": "heatmap"
           }
          ],
          "heatmapgl": [
           {
            "colorbar": {
             "outlinewidth": 0,
             "ticks": ""
            },
            "colorscale": [
             [
              0,
              "#0d0887"
             ],
             [
              0.1111111111111111,
              "#46039f"
             ],
             [
              0.2222222222222222,
              "#7201a8"
             ],
             [
              0.3333333333333333,
              "#9c179e"
             ],
             [
              0.4444444444444444,
              "#bd3786"
             ],
             [
              0.5555555555555556,
              "#d8576b"
             ],
             [
              0.6666666666666666,
              "#ed7953"
             ],
             [
              0.7777777777777778,
              "#fb9f3a"
             ],
             [
              0.8888888888888888,
              "#fdca26"
             ],
             [
              1,
              "#f0f921"
             ]
            ],
            "type": "heatmapgl"
           }
          ],
          "histogram": [
           {
            "marker": {
             "pattern": {
              "fillmode": "overlay",
              "size": 10,
              "solidity": 0.2
             }
            },
            "type": "histogram"
           }
          ],
          "histogram2d": [
           {
            "colorbar": {
             "outlinewidth": 0,
             "ticks": ""
            },
            "colorscale": [
             [
              0,
              "#0d0887"
             ],
             [
              0.1111111111111111,
              "#46039f"
             ],
             [
              0.2222222222222222,
              "#7201a8"
             ],
             [
              0.3333333333333333,
              "#9c179e"
             ],
             [
              0.4444444444444444,
              "#bd3786"
             ],
             [
              0.5555555555555556,
              "#d8576b"
             ],
             [
              0.6666666666666666,
              "#ed7953"
             ],
             [
              0.7777777777777778,
              "#fb9f3a"
             ],
             [
              0.8888888888888888,
              "#fdca26"
             ],
             [
              1,
              "#f0f921"
             ]
            ],
            "type": "histogram2d"
           }
          ],
          "histogram2dcontour": [
           {
            "colorbar": {
             "outlinewidth": 0,
             "ticks": ""
            },
            "colorscale": [
             [
              0,
              "#0d0887"
             ],
             [
              0.1111111111111111,
              "#46039f"
             ],
             [
              0.2222222222222222,
              "#7201a8"
             ],
             [
              0.3333333333333333,
              "#9c179e"
             ],
             [
              0.4444444444444444,
              "#bd3786"
             ],
             [
              0.5555555555555556,
              "#d8576b"
             ],
             [
              0.6666666666666666,
              "#ed7953"
             ],
             [
              0.7777777777777778,
              "#fb9f3a"
             ],
             [
              0.8888888888888888,
              "#fdca26"
             ],
             [
              1,
              "#f0f921"
             ]
            ],
            "type": "histogram2dcontour"
           }
          ],
          "mesh3d": [
           {
            "colorbar": {
             "outlinewidth": 0,
             "ticks": ""
            },
            "type": "mesh3d"
           }
          ],
          "parcoords": [
           {
            "line": {
             "colorbar": {
              "outlinewidth": 0,
              "ticks": ""
             }
            },
            "type": "parcoords"
           }
          ],
          "pie": [
           {
            "automargin": true,
            "type": "pie"
           }
          ],
          "scatter": [
           {
            "fillpattern": {
             "fillmode": "overlay",
             "size": 10,
             "solidity": 0.2
            },
            "type": "scatter"
           }
          ],
          "scatter3d": [
           {
            "line": {
             "colorbar": {
              "outlinewidth": 0,
              "ticks": ""
             }
            },
            "marker": {
             "colorbar": {
              "outlinewidth": 0,
              "ticks": ""
             }
            },
            "type": "scatter3d"
           }
          ],
          "scattercarpet": [
           {
            "marker": {
             "colorbar": {
              "outlinewidth": 0,
              "ticks": ""
             }
            },
            "type": "scattercarpet"
           }
          ],
          "scattergeo": [
           {
            "marker": {
             "colorbar": {
              "outlinewidth": 0,
              "ticks": ""
             }
            },
            "type": "scattergeo"
           }
          ],
          "scattergl": [
           {
            "marker": {
             "colorbar": {
              "outlinewidth": 0,
              "ticks": ""
             }
            },
            "type": "scattergl"
           }
          ],
          "scattermapbox": [
           {
            "marker": {
             "colorbar": {
              "outlinewidth": 0,
              "ticks": ""
             }
            },
            "type": "scattermapbox"
           }
          ],
          "scatterpolar": [
           {
            "marker": {
             "colorbar": {
              "outlinewidth": 0,
              "ticks": ""
             }
            },
            "type": "scatterpolar"
           }
          ],
          "scatterpolargl": [
           {
            "marker": {
             "colorbar": {
              "outlinewidth": 0,
              "ticks": ""
             }
            },
            "type": "scatterpolargl"
           }
          ],
          "scatterternary": [
           {
            "marker": {
             "colorbar": {
              "outlinewidth": 0,
              "ticks": ""
             }
            },
            "type": "scatterternary"
           }
          ],
          "surface": [
           {
            "colorbar": {
             "outlinewidth": 0,
             "ticks": ""
            },
            "colorscale": [
             [
              0,
              "#0d0887"
             ],
             [
              0.1111111111111111,
              "#46039f"
             ],
             [
              0.2222222222222222,
              "#7201a8"
             ],
             [
              0.3333333333333333,
              "#9c179e"
             ],
             [
              0.4444444444444444,
              "#bd3786"
             ],
             [
              0.5555555555555556,
              "#d8576b"
             ],
             [
              0.6666666666666666,
              "#ed7953"
             ],
             [
              0.7777777777777778,
              "#fb9f3a"
             ],
             [
              0.8888888888888888,
              "#fdca26"
             ],
             [
              1,
              "#f0f921"
             ]
            ],
            "type": "surface"
           }
          ],
          "table": [
           {
            "cells": {
             "fill": {
              "color": "#EBF0F8"
             },
             "line": {
              "color": "white"
             }
            },
            "header": {
             "fill": {
              "color": "#C8D4E3"
             },
             "line": {
              "color": "white"
             }
            },
            "type": "table"
           }
          ]
         },
         "layout": {
          "annotationdefaults": {
           "arrowcolor": "#2a3f5f",
           "arrowhead": 0,
           "arrowwidth": 1
          },
          "autotypenumbers": "strict",
          "coloraxis": {
           "colorbar": {
            "outlinewidth": 0,
            "ticks": ""
           }
          },
          "colorscale": {
           "diverging": [
            [
             0,
             "#8e0152"
            ],
            [
             0.1,
             "#c51b7d"
            ],
            [
             0.2,
             "#de77ae"
            ],
            [
             0.3,
             "#f1b6da"
            ],
            [
             0.4,
             "#fde0ef"
            ],
            [
             0.5,
             "#f7f7f7"
            ],
            [
             0.6,
             "#e6f5d0"
            ],
            [
             0.7,
             "#b8e186"
            ],
            [
             0.8,
             "#7fbc41"
            ],
            [
             0.9,
             "#4d9221"
            ],
            [
             1,
             "#276419"
            ]
           ],
           "sequential": [
            [
             0,
             "#0d0887"
            ],
            [
             0.1111111111111111,
             "#46039f"
            ],
            [
             0.2222222222222222,
             "#7201a8"
            ],
            [
             0.3333333333333333,
             "#9c179e"
            ],
            [
             0.4444444444444444,
             "#bd3786"
            ],
            [
             0.5555555555555556,
             "#d8576b"
            ],
            [
             0.6666666666666666,
             "#ed7953"
            ],
            [
             0.7777777777777778,
             "#fb9f3a"
            ],
            [
             0.8888888888888888,
             "#fdca26"
            ],
            [
             1,
             "#f0f921"
            ]
           ],
           "sequentialminus": [
            [
             0,
             "#0d0887"
            ],
            [
             0.1111111111111111,
             "#46039f"
            ],
            [
             0.2222222222222222,
             "#7201a8"
            ],
            [
             0.3333333333333333,
             "#9c179e"
            ],
            [
             0.4444444444444444,
             "#bd3786"
            ],
            [
             0.5555555555555556,
             "#d8576b"
            ],
            [
             0.6666666666666666,
             "#ed7953"
            ],
            [
             0.7777777777777778,
             "#fb9f3a"
            ],
            [
             0.8888888888888888,
             "#fdca26"
            ],
            [
             1,
             "#f0f921"
            ]
           ]
          },
          "colorway": [
           "#636efa",
           "#EF553B",
           "#00cc96",
           "#ab63fa",
           "#FFA15A",
           "#19d3f3",
           "#FF6692",
           "#B6E880",
           "#FF97FF",
           "#FECB52"
          ],
          "font": {
           "color": "#2a3f5f"
          },
          "geo": {
           "bgcolor": "white",
           "lakecolor": "white",
           "landcolor": "#E5ECF6",
           "showlakes": true,
           "showland": true,
           "subunitcolor": "white"
          },
          "hoverlabel": {
           "align": "left"
          },
          "hovermode": "closest",
          "mapbox": {
           "style": "light"
          },
          "paper_bgcolor": "white",
          "plot_bgcolor": "#E5ECF6",
          "polar": {
           "angularaxis": {
            "gridcolor": "white",
            "linecolor": "white",
            "ticks": ""
           },
           "bgcolor": "#E5ECF6",
           "radialaxis": {
            "gridcolor": "white",
            "linecolor": "white",
            "ticks": ""
           }
          },
          "scene": {
           "xaxis": {
            "backgroundcolor": "#E5ECF6",
            "gridcolor": "white",
            "gridwidth": 2,
            "linecolor": "white",
            "showbackground": true,
            "ticks": "",
            "zerolinecolor": "white"
           },
           "yaxis": {
            "backgroundcolor": "#E5ECF6",
            "gridcolor": "white",
            "gridwidth": 2,
            "linecolor": "white",
            "showbackground": true,
            "ticks": "",
            "zerolinecolor": "white"
           },
           "zaxis": {
            "backgroundcolor": "#E5ECF6",
            "gridcolor": "white",
            "gridwidth": 2,
            "linecolor": "white",
            "showbackground": true,
            "ticks": "",
            "zerolinecolor": "white"
           }
          },
          "shapedefaults": {
           "line": {
            "color": "#2a3f5f"
           }
          },
          "ternary": {
           "aaxis": {
            "gridcolor": "white",
            "linecolor": "white",
            "ticks": ""
           },
           "baxis": {
            "gridcolor": "white",
            "linecolor": "white",
            "ticks": ""
           },
           "bgcolor": "#E5ECF6",
           "caxis": {
            "gridcolor": "white",
            "linecolor": "white",
            "ticks": ""
           }
          },
          "title": {
           "x": 0.05
          },
          "xaxis": {
           "automargin": true,
           "gridcolor": "white",
           "linecolor": "white",
           "ticks": "",
           "title": {
            "standoff": 15
           },
           "zerolinecolor": "white",
           "zerolinewidth": 2
          },
          "yaxis": {
           "automargin": true,
           "gridcolor": "white",
           "linecolor": "white",
           "ticks": "",
           "title": {
            "standoff": 15
           },
           "zerolinecolor": "white",
           "zerolinewidth": 2
          }
         }
        },
        "title": {
         "text": "图表标题"
        },
        "xaxis": {
         "ticklen": 5,
         "title": {
          "text": "X"
         },
         "zeroline": false
        },
        "yaxis": {
         "ticklen": 5,
         "title": {
          "text": "Y"
         },
         "zeroline": false
        }
       }
      },
      "text/html": [
       "<div>                            <div id=\"6da9d801-43ea-4df2-be4d-67c1e8466d57\" class=\"plotly-graph-div\" style=\"height:525px; width:100%;\"></div>            <script type=\"text/javascript\">                require([\"plotly\"], function(Plotly) {                    window.PLOTLYENV=window.PLOTLYENV || {};                                    if (document.getElementById(\"6da9d801-43ea-4df2-be4d-67c1e8466d57\")) {                    Plotly.newPlot(                        \"6da9d801-43ea-4df2-be4d-67c1e8466d57\",                        [{\"marker\":{\"color\":\"rgba(16, 112, 2, 0.8)\"},\"mode\":\"lines\",\"name\":\"\\u7ebf\\u540d\\u79f0\",\"text\":[3.0,4.0,4.0,5.0,5.0,6.0,8.0,9.0,9.0,10.0,10.0,10.0,10.0,12.0,14.0,14.0,16.0,17.0,18.0,19.0,19.0,20.0,20.0,22.0,23.0,24.0,25.0,25.0,26.0,28.0,28.0,29.0,29.0,29.0,33.0,34.0,34.0,35.0,36.0,36.0,37.0,39.0,39.0,39.0,39.0,44.0,45.0,45.0,45.0,45.0,47.0,49.0,49.0,50.0,51.0,53.0,56.0,56.0,56.0,58.0,58.0,59.0,61.0,61.0,62.0,64.0,64.0,65.0,65.0,65.0,67.0,67.0,67.0,70.0,71.0,72.0,72.0,73.0,74.0,74.0,76.0,76.0,78.0,78.0,79.0,82.0,83.0,84.0,84.0,85.0,89.0,92.0,93.0,93.0,93.0,93.0,95.0,96.0,99.0,99.0],\"x\":[3,4,4,5,5,6,8,9,9,10,10,10,10,12,14,14,16,17,18,19,19,20,20,22,23,24,25,25,26,28,28,29,29,29,33,34,34,35,36,36,37,39,39,39,39,44,45,45,45,45,47,49,49,50,51,53,56,56,56,58,58,59,61,61,62,64,64,65,65,65,67,67,67,70,71,72,72,73,74,74,76,76,78,78,79,82,83,84,84,85,89,92,93,93,93,93,95,96,99,99],\"y\":[22,26,40,55,14,71,32,79,66,64,70,97,51,74,72,31,18,44,34,34,27,8,64,47,43,68,39,25,30,15,32,93,90,29,56,97,6,29,96,98,35,13,82,63,1,22,4,12,99,51,90,53,38,55,33,26,65,0,57,62,73,27,97,33,20,59,12,48,35,76,65,80,4,0,75,58,34,3,71,79,69,45,84,17,31,82,82,68,1,30,22,56,21,63,60,27,87,57,38,88],\"type\":\"scatter\"},{\"marker\":{\"color\":\"rgba(216, 112, 2, 0.8)\"},\"mode\":\"lines+markers\",\"name\":\"\\u7ebf\\u540d\\u79f02\",\"text\":[3.0,4.0,4.0,5.0,5.0,6.0,8.0,9.0,9.0,10.0,10.0,10.0,10.0,12.0,14.0,14.0,16.0,17.0,18.0,19.0,19.0,20.0,20.0,22.0,23.0,24.0,25.0,25.0,26.0,28.0,28.0,29.0,29.0,29.0,33.0,34.0,34.0,35.0,36.0,36.0,37.0,39.0,39.0,39.0,39.0,44.0,45.0,45.0,45.0,45.0,47.0,49.0,49.0,50.0,51.0,53.0,56.0,56.0,56.0,58.0,58.0,59.0,61.0,61.0,62.0,64.0,64.0,65.0,65.0,65.0,67.0,67.0,67.0,70.0,71.0,72.0,72.0,73.0,74.0,74.0,76.0,76.0,78.0,78.0,79.0,82.0,83.0,84.0,84.0,85.0,89.0,92.0,93.0,93.0,93.0,93.0,95.0,96.0,99.0,99.0],\"x\":[3,4,4,5,5,6,8,9,9,10,10,10,10,12,14,14,16,17,18,19,19,20,20,22,23,24,25,25,26,28,28,29,29,29,33,34,34,35,36,36,37,39,39,39,39,44,45,45,45,45,47,49,49,50,51,53,56,56,56,58,58,59,61,61,62,64,64,65,65,65,67,67,67,70,71,72,72,73,74,74,76,76,78,78,79,82,83,84,84,85,89,92,93,93,93,93,95,96,99,99],\"y\":[54,12,74,11,95,87,48,11,84,47,35,2,28,57,7,57,65,35,26,61,89,80,16,99,79,57,49,79,13,5,85,64,83,6,53,56,9,49,92,99,62,41,56,16,64,46,35,32,67,95,0,90,49,81,25,73,55,32,7,20,41,32,42,83,3,22,70,35,61,4,4,15,38,1,90,12,94,94,91,42,31,32,37,27,16,13,22,64,20,67,31,73,82,21,24,21,98,89,49,20],\"type\":\"scatter\"}],                        {\"title\":{\"text\":\"\\u56fe\\u8868\\u6807\\u9898\"},\"xaxis\":{\"ticklen\":5,\"title\":{\"text\":\"X\"},\"zeroline\":false},\"yaxis\":{\"ticklen\":5,\"title\":{\"text\":\"Y\"},\"zeroline\":false},\"template\":{\"data\":{\"histogram2dcontour\":[{\"type\":\"histogram2dcontour\",\"colorbar\":{\"outlinewidth\":0,\"ticks\":\"\"},\"colorscale\":[[0.0,\"#0d0887\"],[0.1111111111111111,\"#46039f\"],[0.2222222222222222,\"#7201a8\"],[0.3333333333333333,\"#9c179e\"],[0.4444444444444444,\"#bd3786\"],[0.5555555555555556,\"#d8576b\"],[0.6666666666666666,\"#ed7953\"],[0.7777777777777778,\"#fb9f3a\"],[0.8888888888888888,\"#fdca26\"],[1.0,\"#f0f921\"]]}],\"choropleth\":[{\"type\":\"choropleth\",\"colorbar\":{\"outlinewidth\":0,\"ticks\":\"\"}}],\"histogram2d\":[{\"type\":\"histogram2d\",\"colorbar\":{\"outlinewidth\":0,\"ticks\":\"\"},\"colorscale\":[[0.0,\"#0d0887\"],[0.1111111111111111,\"#46039f\"],[0.2222222222222222,\"#7201a8\"],[0.3333333333333333,\"#9c179e\"],[0.4444444444444444,\"#bd3786\"],[0.5555555555555556,\"#d8576b\"],[0.6666666666666666,\"#ed7953\"],[0.7777777777777778,\"#fb9f3a\"],[0.8888888888888888,\"#fdca26\"],[1.0,\"#f0f921\"]]}],\"heatmap\":[{\"type\":\"heatmap\",\"colorbar\":{\"outlinewidth\":0,\"ticks\":\"\"},\"colorscale\":[[0.0,\"#0d0887\"],[0.1111111111111111,\"#46039f\"],[0.2222222222222222,\"#7201a8\"],[0.3333333333333333,\"#9c179e\"],[0.4444444444444444,\"#bd3786\"],[0.5555555555555556,\"#d8576b\"],[0.6666666666666666,\"#ed7953\"],[0.7777777777777778,\"#fb9f3a\"],[0.8888888888888888,\"#fdca26\"],[1.0,\"#f0f921\"]]}],\"heatmapgl\":[{\"type\":\"heatmapgl\",\"colorbar\":{\"outlinewidth\":0,\"ticks\":\"\"},\"colorscale\":[[0.0,\"#0d0887\"],[0.1111111111111111,\"#46039f\"],[0.2222222222222222,\"#7201a8\"],[0.3333333333333333,\"#9c179e\"],[0.4444444444444444,\"#bd3786\"],[0.5555555555555556,\"#d8576b\"],[0.6666666666666666,\"#ed7953\"],[0.7777777777777778,\"#fb9f3a\"],[0.8888888888888888,\"#fdca26\"],[1.0,\"#f0f921\"]]}],\"contourcarpet\":[{\"type\":\"contourcarpet\",\"colorbar\":{\"outlinewidth\":0,\"ticks\":\"\"}}],\"contour\":[{\"type\":\"contour\",\"colorbar\":{\"outlinewidth\":0,\"ticks\":\"\"},\"colorscale\":[[0.0,\"#0d0887\"],[0.1111111111111111,\"#46039f\"],[0.2222222222222222,\"#7201a8\"],[0.3333333333333333,\"#9c179e\"],[0.4444444444444444,\"#bd3786\"],[0.5555555555555556,\"#d8576b\"],[0.6666666666666666,\"#ed7953\"],[0.7777777777777778,\"#fb9f3a\"],[0.8888888888888888,\"#fdca26\"],[1.0,\"#f0f921\"]]}],\"surface\":[{\"type\":\"surface\",\"colorbar\":{\"outlinewidth\":0,\"ticks\":\"\"},\"colorscale\":[[0.0,\"#0d0887\"],[0.1111111111111111,\"#46039f\"],[0.2222222222222222,\"#7201a8\"],[0.3333333333333333,\"#9c179e\"],[0.4444444444444444,\"#bd3786\"],[0.5555555555555556,\"#d8576b\"],[0.6666666666666666,\"#ed7953\"],[0.7777777777777778,\"#fb9f3a\"],[0.8888888888888888,\"#fdca26\"],[1.0,\"#f0f921\"]]}],\"mesh3d\":[{\"type\":\"mesh3d\",\"colorbar\":{\"outlinewidth\":0,\"ticks\":\"\"}}],\"scatter\":[{\"fillpattern\":{\"fillmode\":\"overlay\",\"size\":10,\"solidity\":0.2},\"type\":\"scatter\"}],\"parcoords\":[{\"type\":\"parcoords\",\"line\":{\"colorbar\":{\"outlinewidth\":0,\"ticks\":\"\"}}}],\"scatterpolargl\":[{\"type\":\"scatterpolargl\",\"marker\":{\"colorbar\":{\"outlinewidth\":0,\"ticks\":\"\"}}}],\"bar\":[{\"error_x\":{\"color\":\"#2a3f5f\"},\"error_y\":{\"color\":\"#2a3f5f\"},\"marker\":{\"line\":{\"color\":\"#E5ECF6\",\"width\":0.5},\"pattern\":{\"fillmode\":\"overlay\",\"size\":10,\"solidity\":0.2}},\"type\":\"bar\"}],\"scattergeo\":[{\"type\":\"scattergeo\",\"marker\":{\"colorbar\":{\"outlinewidth\":0,\"ticks\":\"\"}}}],\"scatterpolar\":[{\"type\":\"scatterpolar\",\"marker\":{\"colorbar\":{\"outlinewidth\":0,\"ticks\":\"\"}}}],\"histogram\":[{\"marker\":{\"pattern\":{\"fillmode\":\"overlay\",\"size\":10,\"solidity\":0.2}},\"type\":\"histogram\"}],\"scattergl\":[{\"type\":\"scattergl\",\"marker\":{\"colorbar\":{\"outlinewidth\":0,\"ticks\":\"\"}}}],\"scatter3d\":[{\"type\":\"scatter3d\",\"line\":{\"colorbar\":{\"outlinewidth\":0,\"ticks\":\"\"}},\"marker\":{\"colorbar\":{\"outlinewidth\":0,\"ticks\":\"\"}}}],\"scattermapbox\":[{\"type\":\"scattermapbox\",\"marker\":{\"colorbar\":{\"outlinewidth\":0,\"ticks\":\"\"}}}],\"scatterternary\":[{\"type\":\"scatterternary\",\"marker\":{\"colorbar\":{\"outlinewidth\":0,\"ticks\":\"\"}}}],\"scattercarpet\":[{\"type\":\"scattercarpet\",\"marker\":{\"colorbar\":{\"outlinewidth\":0,\"ticks\":\"\"}}}],\"carpet\":[{\"aaxis\":{\"endlinecolor\":\"#2a3f5f\",\"gridcolor\":\"white\",\"linecolor\":\"white\",\"minorgridcolor\":\"white\",\"startlinecolor\":\"#2a3f5f\"},\"baxis\":{\"endlinecolor\":\"#2a3f5f\",\"gridcolor\":\"white\",\"linecolor\":\"white\",\"minorgridcolor\":\"white\",\"startlinecolor\":\"#2a3f5f\"},\"type\":\"carpet\"}],\"table\":[{\"cells\":{\"fill\":{\"color\":\"#EBF0F8\"},\"line\":{\"color\":\"white\"}},\"header\":{\"fill\":{\"color\":\"#C8D4E3\"},\"line\":{\"color\":\"white\"}},\"type\":\"table\"}],\"barpolar\":[{\"marker\":{\"line\":{\"color\":\"#E5ECF6\",\"width\":0.5},\"pattern\":{\"fillmode\":\"overlay\",\"size\":10,\"solidity\":0.2}},\"type\":\"barpolar\"}],\"pie\":[{\"automargin\":true,\"type\":\"pie\"}]},\"layout\":{\"autotypenumbers\":\"strict\",\"colorway\":[\"#636efa\",\"#EF553B\",\"#00cc96\",\"#ab63fa\",\"#FFA15A\",\"#19d3f3\",\"#FF6692\",\"#B6E880\",\"#FF97FF\",\"#FECB52\"],\"font\":{\"color\":\"#2a3f5f\"},\"hovermode\":\"closest\",\"hoverlabel\":{\"align\":\"left\"},\"paper_bgcolor\":\"white\",\"plot_bgcolor\":\"#E5ECF6\",\"polar\":{\"bgcolor\":\"#E5ECF6\",\"angularaxis\":{\"gridcolor\":\"white\",\"linecolor\":\"white\",\"ticks\":\"\"},\"radialaxis\":{\"gridcolor\":\"white\",\"linecolor\":\"white\",\"ticks\":\"\"}},\"ternary\":{\"bgcolor\":\"#E5ECF6\",\"aaxis\":{\"gridcolor\":\"white\",\"linecolor\":\"white\",\"ticks\":\"\"},\"baxis\":{\"gridcolor\":\"white\",\"linecolor\":\"white\",\"ticks\":\"\"},\"caxis\":{\"gridcolor\":\"white\",\"linecolor\":\"white\",\"ticks\":\"\"}},\"coloraxis\":{\"colorbar\":{\"outlinewidth\":0,\"ticks\":\"\"}},\"colorscale\":{\"sequential\":[[0.0,\"#0d0887\"],[0.1111111111111111,\"#46039f\"],[0.2222222222222222,\"#7201a8\"],[0.3333333333333333,\"#9c179e\"],[0.4444444444444444,\"#bd3786\"],[0.5555555555555556,\"#d8576b\"],[0.6666666666666666,\"#ed7953\"],[0.7777777777777778,\"#fb9f3a\"],[0.8888888888888888,\"#fdca26\"],[1.0,\"#f0f921\"]],\"sequentialminus\":[[0.0,\"#0d0887\"],[0.1111111111111111,\"#46039f\"],[0.2222222222222222,\"#7201a8\"],[0.3333333333333333,\"#9c179e\"],[0.4444444444444444,\"#bd3786\"],[0.5555555555555556,\"#d8576b\"],[0.6666666666666666,\"#ed7953\"],[0.7777777777777778,\"#fb9f3a\"],[0.8888888888888888,\"#fdca26\"],[1.0,\"#f0f921\"]],\"diverging\":[[0,\"#8e0152\"],[0.1,\"#c51b7d\"],[0.2,\"#de77ae\"],[0.3,\"#f1b6da\"],[0.4,\"#fde0ef\"],[0.5,\"#f7f7f7\"],[0.6,\"#e6f5d0\"],[0.7,\"#b8e186\"],[0.8,\"#7fbc41\"],[0.9,\"#4d9221\"],[1,\"#276419\"]]},\"xaxis\":{\"gridcolor\":\"white\",\"linecolor\":\"white\",\"ticks\":\"\",\"title\":{\"standoff\":15},\"zerolinecolor\":\"white\",\"automargin\":true,\"zerolinewidth\":2},\"yaxis\":{\"gridcolor\":\"white\",\"linecolor\":\"white\",\"ticks\":\"\",\"title\":{\"standoff\":15},\"zerolinecolor\":\"white\",\"automargin\":true,\"zerolinewidth\":2},\"scene\":{\"xaxis\":{\"backgroundcolor\":\"#E5ECF6\",\"gridcolor\":\"white\",\"linecolor\":\"white\",\"showbackground\":true,\"ticks\":\"\",\"zerolinecolor\":\"white\",\"gridwidth\":2},\"yaxis\":{\"backgroundcolor\":\"#E5ECF6\",\"gridcolor\":\"white\",\"linecolor\":\"white\",\"showbackground\":true,\"ticks\":\"\",\"zerolinecolor\":\"white\",\"gridwidth\":2},\"zaxis\":{\"backgroundcolor\":\"#E5ECF6\",\"gridcolor\":\"white\",\"linecolor\":\"white\",\"showbackground\":true,\"ticks\":\"\",\"zerolinecolor\":\"white\",\"gridwidth\":2}},\"shapedefaults\":{\"line\":{\"color\":\"#2a3f5f\"}},\"annotationdefaults\":{\"arrowcolor\":\"#2a3f5f\",\"arrowhead\":0,\"arrowwidth\":1},\"geo\":{\"bgcolor\":\"white\",\"landcolor\":\"#E5ECF6\",\"subunitcolor\":\"white\",\"showland\":true,\"showlakes\":true,\"lakecolor\":\"white\"},\"title\":{\"x\":0.05},\"mapbox\":{\"style\":\"light\"}}}},                        {\"responsive\": true}                    ).then(function(){\n",
       "                            \n",
       "var gd = document.getElementById('6da9d801-43ea-4df2-be4d-67c1e8466d57');\n",
       "var x = new MutationObserver(function (mutations, observer) {{\n",
       "        var display = window.getComputedStyle(gd).display;\n",
       "        if (!display || display === 'none') {{\n",
       "            console.log([gd, 'removed!']);\n",
       "            Plotly.purge(gd);\n",
       "            observer.disconnect();\n",
       "        }}\n",
       "}});\n",
       "\n",
       "// Listen for the removal of the full notebook cells\n",
       "var notebookContainer = gd.closest('#notebook-container');\n",
       "if (notebookContainer) {{\n",
       "    x.observe(notebookContainer, {childList: true});\n",
       "}}\n",
       "\n",
       "// Listen for the clearing of the current output cell\n",
       "var outputEl = gd.closest('.output');\n",
       "if (outputEl) {{\n",
       "    x.observe(outputEl, {childList: true});\n",
       "}}\n",
       "\n",
       "                        })                };                });            </script>        </div>"
      ]
     },
     "metadata": {},
     "output_type": "display_data"
    }
   ],
   "source": [
    "# 更新\n",
    "fig.update_layout(\n",
    "    title=\"图表标题\"\n",
    ")"
   ]
  },
  {
   "cell_type": "code",
   "execution_count": 88,
   "metadata": {},
   "outputs": [
    {
     "data": {
      "application/vnd.plotly.v1+json": {
       "config": {
        "plotlyServerURL": "https://plot.ly"
       },
       "data": [
        {
         "line": {
          "color": "red"
         },
         "marker": {
          "color": "rgba(16, 112, 2, 0.8)"
         },
         "mode": "lines",
         "name": "线名称",
         "text": [
          3,
          4,
          4,
          5,
          5,
          6,
          8,
          9,
          9,
          10,
          10,
          10,
          10,
          12,
          14,
          14,
          16,
          17,
          18,
          19,
          19,
          20,
          20,
          22,
          23,
          24,
          25,
          25,
          26,
          28,
          28,
          29,
          29,
          29,
          33,
          34,
          34,
          35,
          36,
          36,
          37,
          39,
          39,
          39,
          39,
          44,
          45,
          45,
          45,
          45,
          47,
          49,
          49,
          50,
          51,
          53,
          56,
          56,
          56,
          58,
          58,
          59,
          61,
          61,
          62,
          64,
          64,
          65,
          65,
          65,
          67,
          67,
          67,
          70,
          71,
          72,
          72,
          73,
          74,
          74,
          76,
          76,
          78,
          78,
          79,
          82,
          83,
          84,
          84,
          85,
          89,
          92,
          93,
          93,
          93,
          93,
          95,
          96,
          99,
          99
         ],
         "type": "scatter",
         "x": [
          3,
          4,
          4,
          5,
          5,
          6,
          8,
          9,
          9,
          10,
          10,
          10,
          10,
          12,
          14,
          14,
          16,
          17,
          18,
          19,
          19,
          20,
          20,
          22,
          23,
          24,
          25,
          25,
          26,
          28,
          28,
          29,
          29,
          29,
          33,
          34,
          34,
          35,
          36,
          36,
          37,
          39,
          39,
          39,
          39,
          44,
          45,
          45,
          45,
          45,
          47,
          49,
          49,
          50,
          51,
          53,
          56,
          56,
          56,
          58,
          58,
          59,
          61,
          61,
          62,
          64,
          64,
          65,
          65,
          65,
          67,
          67,
          67,
          70,
          71,
          72,
          72,
          73,
          74,
          74,
          76,
          76,
          78,
          78,
          79,
          82,
          83,
          84,
          84,
          85,
          89,
          92,
          93,
          93,
          93,
          93,
          95,
          96,
          99,
          99
         ],
         "y": [
          22,
          26,
          40,
          55,
          14,
          71,
          32,
          79,
          66,
          64,
          70,
          97,
          51,
          74,
          72,
          31,
          18,
          44,
          34,
          34,
          27,
          8,
          64,
          47,
          43,
          68,
          39,
          25,
          30,
          15,
          32,
          93,
          90,
          29,
          56,
          97,
          6,
          29,
          96,
          98,
          35,
          13,
          82,
          63,
          1,
          22,
          4,
          12,
          99,
          51,
          90,
          53,
          38,
          55,
          33,
          26,
          65,
          0,
          57,
          62,
          73,
          27,
          97,
          33,
          20,
          59,
          12,
          48,
          35,
          76,
          65,
          80,
          4,
          0,
          75,
          58,
          34,
          3,
          71,
          79,
          69,
          45,
          84,
          17,
          31,
          82,
          82,
          68,
          1,
          30,
          22,
          56,
          21,
          63,
          60,
          27,
          87,
          57,
          38,
          88
         ]
        },
        {
         "marker": {
          "color": "rgba(216, 112, 2, 0.8)"
         },
         "mode": "lines+markers",
         "name": "线名称2",
         "text": [
          3,
          4,
          4,
          5,
          5,
          6,
          8,
          9,
          9,
          10,
          10,
          10,
          10,
          12,
          14,
          14,
          16,
          17,
          18,
          19,
          19,
          20,
          20,
          22,
          23,
          24,
          25,
          25,
          26,
          28,
          28,
          29,
          29,
          29,
          33,
          34,
          34,
          35,
          36,
          36,
          37,
          39,
          39,
          39,
          39,
          44,
          45,
          45,
          45,
          45,
          47,
          49,
          49,
          50,
          51,
          53,
          56,
          56,
          56,
          58,
          58,
          59,
          61,
          61,
          62,
          64,
          64,
          65,
          65,
          65,
          67,
          67,
          67,
          70,
          71,
          72,
          72,
          73,
          74,
          74,
          76,
          76,
          78,
          78,
          79,
          82,
          83,
          84,
          84,
          85,
          89,
          92,
          93,
          93,
          93,
          93,
          95,
          96,
          99,
          99
         ],
         "type": "scatter",
         "x": [
          3,
          4,
          4,
          5,
          5,
          6,
          8,
          9,
          9,
          10,
          10,
          10,
          10,
          12,
          14,
          14,
          16,
          17,
          18,
          19,
          19,
          20,
          20,
          22,
          23,
          24,
          25,
          25,
          26,
          28,
          28,
          29,
          29,
          29,
          33,
          34,
          34,
          35,
          36,
          36,
          37,
          39,
          39,
          39,
          39,
          44,
          45,
          45,
          45,
          45,
          47,
          49,
          49,
          50,
          51,
          53,
          56,
          56,
          56,
          58,
          58,
          59,
          61,
          61,
          62,
          64,
          64,
          65,
          65,
          65,
          67,
          67,
          67,
          70,
          71,
          72,
          72,
          73,
          74,
          74,
          76,
          76,
          78,
          78,
          79,
          82,
          83,
          84,
          84,
          85,
          89,
          92,
          93,
          93,
          93,
          93,
          95,
          96,
          99,
          99
         ],
         "y": [
          54,
          12,
          74,
          11,
          95,
          87,
          48,
          11,
          84,
          47,
          35,
          2,
          28,
          57,
          7,
          57,
          65,
          35,
          26,
          61,
          89,
          80,
          16,
          99,
          79,
          57,
          49,
          79,
          13,
          5,
          85,
          64,
          83,
          6,
          53,
          56,
          9,
          49,
          92,
          99,
          62,
          41,
          56,
          16,
          64,
          46,
          35,
          32,
          67,
          95,
          0,
          90,
          49,
          81,
          25,
          73,
          55,
          32,
          7,
          20,
          41,
          32,
          42,
          83,
          3,
          22,
          70,
          35,
          61,
          4,
          4,
          15,
          38,
          1,
          90,
          12,
          94,
          94,
          91,
          42,
          31,
          32,
          37,
          27,
          16,
          13,
          22,
          64,
          20,
          67,
          31,
          73,
          82,
          21,
          24,
          21,
          98,
          89,
          49,
          20
         ]
        }
       ],
       "layout": {
        "template": {
         "data": {
          "bar": [
           {
            "error_x": {
             "color": "#2a3f5f"
            },
            "error_y": {
             "color": "#2a3f5f"
            },
            "marker": {
             "line": {
              "color": "#E5ECF6",
              "width": 0.5
             },
             "pattern": {
              "fillmode": "overlay",
              "size": 10,
              "solidity": 0.2
             }
            },
            "type": "bar"
           }
          ],
          "barpolar": [
           {
            "marker": {
             "line": {
              "color": "#E5ECF6",
              "width": 0.5
             },
             "pattern": {
              "fillmode": "overlay",
              "size": 10,
              "solidity": 0.2
             }
            },
            "type": "barpolar"
           }
          ],
          "carpet": [
           {
            "aaxis": {
             "endlinecolor": "#2a3f5f",
             "gridcolor": "white",
             "linecolor": "white",
             "minorgridcolor": "white",
             "startlinecolor": "#2a3f5f"
            },
            "baxis": {
             "endlinecolor": "#2a3f5f",
             "gridcolor": "white",
             "linecolor": "white",
             "minorgridcolor": "white",
             "startlinecolor": "#2a3f5f"
            },
            "type": "carpet"
           }
          ],
          "choropleth": [
           {
            "colorbar": {
             "outlinewidth": 0,
             "ticks": ""
            },
            "type": "choropleth"
           }
          ],
          "contour": [
           {
            "colorbar": {
             "outlinewidth": 0,
             "ticks": ""
            },
            "colorscale": [
             [
              0,
              "#0d0887"
             ],
             [
              0.1111111111111111,
              "#46039f"
             ],
             [
              0.2222222222222222,
              "#7201a8"
             ],
             [
              0.3333333333333333,
              "#9c179e"
             ],
             [
              0.4444444444444444,
              "#bd3786"
             ],
             [
              0.5555555555555556,
              "#d8576b"
             ],
             [
              0.6666666666666666,
              "#ed7953"
             ],
             [
              0.7777777777777778,
              "#fb9f3a"
             ],
             [
              0.8888888888888888,
              "#fdca26"
             ],
             [
              1,
              "#f0f921"
             ]
            ],
            "type": "contour"
           }
          ],
          "contourcarpet": [
           {
            "colorbar": {
             "outlinewidth": 0,
             "ticks": ""
            },
            "type": "contourcarpet"
           }
          ],
          "heatmap": [
           {
            "colorbar": {
             "outlinewidth": 0,
             "ticks": ""
            },
            "colorscale": [
             [
              0,
              "#0d0887"
             ],
             [
              0.1111111111111111,
              "#46039f"
             ],
             [
              0.2222222222222222,
              "#7201a8"
             ],
             [
              0.3333333333333333,
              "#9c179e"
             ],
             [
              0.4444444444444444,
              "#bd3786"
             ],
             [
              0.5555555555555556,
              "#d8576b"
             ],
             [
              0.6666666666666666,
              "#ed7953"
             ],
             [
              0.7777777777777778,
              "#fb9f3a"
             ],
             [
              0.8888888888888888,
              "#fdca26"
             ],
             [
              1,
              "#f0f921"
             ]
            ],
            "type": "heatmap"
           }
          ],
          "heatmapgl": [
           {
            "colorbar": {
             "outlinewidth": 0,
             "ticks": ""
            },
            "colorscale": [
             [
              0,
              "#0d0887"
             ],
             [
              0.1111111111111111,
              "#46039f"
             ],
             [
              0.2222222222222222,
              "#7201a8"
             ],
             [
              0.3333333333333333,
              "#9c179e"
             ],
             [
              0.4444444444444444,
              "#bd3786"
             ],
             [
              0.5555555555555556,
              "#d8576b"
             ],
             [
              0.6666666666666666,
              "#ed7953"
             ],
             [
              0.7777777777777778,
              "#fb9f3a"
             ],
             [
              0.8888888888888888,
              "#fdca26"
             ],
             [
              1,
              "#f0f921"
             ]
            ],
            "type": "heatmapgl"
           }
          ],
          "histogram": [
           {
            "marker": {
             "pattern": {
              "fillmode": "overlay",
              "size": 10,
              "solidity": 0.2
             }
            },
            "type": "histogram"
           }
          ],
          "histogram2d": [
           {
            "colorbar": {
             "outlinewidth": 0,
             "ticks": ""
            },
            "colorscale": [
             [
              0,
              "#0d0887"
             ],
             [
              0.1111111111111111,
              "#46039f"
             ],
             [
              0.2222222222222222,
              "#7201a8"
             ],
             [
              0.3333333333333333,
              "#9c179e"
             ],
             [
              0.4444444444444444,
              "#bd3786"
             ],
             [
              0.5555555555555556,
              "#d8576b"
             ],
             [
              0.6666666666666666,
              "#ed7953"
             ],
             [
              0.7777777777777778,
              "#fb9f3a"
             ],
             [
              0.8888888888888888,
              "#fdca26"
             ],
             [
              1,
              "#f0f921"
             ]
            ],
            "type": "histogram2d"
           }
          ],
          "histogram2dcontour": [
           {
            "colorbar": {
             "outlinewidth": 0,
             "ticks": ""
            },
            "colorscale": [
             [
              0,
              "#0d0887"
             ],
             [
              0.1111111111111111,
              "#46039f"
             ],
             [
              0.2222222222222222,
              "#7201a8"
             ],
             [
              0.3333333333333333,
              "#9c179e"
             ],
             [
              0.4444444444444444,
              "#bd3786"
             ],
             [
              0.5555555555555556,
              "#d8576b"
             ],
             [
              0.6666666666666666,
              "#ed7953"
             ],
             [
              0.7777777777777778,
              "#fb9f3a"
             ],
             [
              0.8888888888888888,
              "#fdca26"
             ],
             [
              1,
              "#f0f921"
             ]
            ],
            "type": "histogram2dcontour"
           }
          ],
          "mesh3d": [
           {
            "colorbar": {
             "outlinewidth": 0,
             "ticks": ""
            },
            "type": "mesh3d"
           }
          ],
          "parcoords": [
           {
            "line": {
             "colorbar": {
              "outlinewidth": 0,
              "ticks": ""
             }
            },
            "type": "parcoords"
           }
          ],
          "pie": [
           {
            "automargin": true,
            "type": "pie"
           }
          ],
          "scatter": [
           {
            "fillpattern": {
             "fillmode": "overlay",
             "size": 10,
             "solidity": 0.2
            },
            "type": "scatter"
           }
          ],
          "scatter3d": [
           {
            "line": {
             "colorbar": {
              "outlinewidth": 0,
              "ticks": ""
             }
            },
            "marker": {
             "colorbar": {
              "outlinewidth": 0,
              "ticks": ""
             }
            },
            "type": "scatter3d"
           }
          ],
          "scattercarpet": [
           {
            "marker": {
             "colorbar": {
              "outlinewidth": 0,
              "ticks": ""
             }
            },
            "type": "scattercarpet"
           }
          ],
          "scattergeo": [
           {
            "marker": {
             "colorbar": {
              "outlinewidth": 0,
              "ticks": ""
             }
            },
            "type": "scattergeo"
           }
          ],
          "scattergl": [
           {
            "marker": {
             "colorbar": {
              "outlinewidth": 0,
              "ticks": ""
             }
            },
            "type": "scattergl"
           }
          ],
          "scattermapbox": [
           {
            "marker": {
             "colorbar": {
              "outlinewidth": 0,
              "ticks": ""
             }
            },
            "type": "scattermapbox"
           }
          ],
          "scatterpolar": [
           {
            "marker": {
             "colorbar": {
              "outlinewidth": 0,
              "ticks": ""
             }
            },
            "type": "scatterpolar"
           }
          ],
          "scatterpolargl": [
           {
            "marker": {
             "colorbar": {
              "outlinewidth": 0,
              "ticks": ""
             }
            },
            "type": "scatterpolargl"
           }
          ],
          "scatterternary": [
           {
            "marker": {
             "colorbar": {
              "outlinewidth": 0,
              "ticks": ""
             }
            },
            "type": "scatterternary"
           }
          ],
          "surface": [
           {
            "colorbar": {
             "outlinewidth": 0,
             "ticks": ""
            },
            "colorscale": [
             [
              0,
              "#0d0887"
             ],
             [
              0.1111111111111111,
              "#46039f"
             ],
             [
              0.2222222222222222,
              "#7201a8"
             ],
             [
              0.3333333333333333,
              "#9c179e"
             ],
             [
              0.4444444444444444,
              "#bd3786"
             ],
             [
              0.5555555555555556,
              "#d8576b"
             ],
             [
              0.6666666666666666,
              "#ed7953"
             ],
             [
              0.7777777777777778,
              "#fb9f3a"
             ],
             [
              0.8888888888888888,
              "#fdca26"
             ],
             [
              1,
              "#f0f921"
             ]
            ],
            "type": "surface"
           }
          ],
          "table": [
           {
            "cells": {
             "fill": {
              "color": "#EBF0F8"
             },
             "line": {
              "color": "white"
             }
            },
            "header": {
             "fill": {
              "color": "#C8D4E3"
             },
             "line": {
              "color": "white"
             }
            },
            "type": "table"
           }
          ]
         },
         "layout": {
          "annotationdefaults": {
           "arrowcolor": "#2a3f5f",
           "arrowhead": 0,
           "arrowwidth": 1
          },
          "autotypenumbers": "strict",
          "coloraxis": {
           "colorbar": {
            "outlinewidth": 0,
            "ticks": ""
           }
          },
          "colorscale": {
           "diverging": [
            [
             0,
             "#8e0152"
            ],
            [
             0.1,
             "#c51b7d"
            ],
            [
             0.2,
             "#de77ae"
            ],
            [
             0.3,
             "#f1b6da"
            ],
            [
             0.4,
             "#fde0ef"
            ],
            [
             0.5,
             "#f7f7f7"
            ],
            [
             0.6,
             "#e6f5d0"
            ],
            [
             0.7,
             "#b8e186"
            ],
            [
             0.8,
             "#7fbc41"
            ],
            [
             0.9,
             "#4d9221"
            ],
            [
             1,
             "#276419"
            ]
           ],
           "sequential": [
            [
             0,
             "#0d0887"
            ],
            [
             0.1111111111111111,
             "#46039f"
            ],
            [
             0.2222222222222222,
             "#7201a8"
            ],
            [
             0.3333333333333333,
             "#9c179e"
            ],
            [
             0.4444444444444444,
             "#bd3786"
            ],
            [
             0.5555555555555556,
             "#d8576b"
            ],
            [
             0.6666666666666666,
             "#ed7953"
            ],
            [
             0.7777777777777778,
             "#fb9f3a"
            ],
            [
             0.8888888888888888,
             "#fdca26"
            ],
            [
             1,
             "#f0f921"
            ]
           ],
           "sequentialminus": [
            [
             0,
             "#0d0887"
            ],
            [
             0.1111111111111111,
             "#46039f"
            ],
            [
             0.2222222222222222,
             "#7201a8"
            ],
            [
             0.3333333333333333,
             "#9c179e"
            ],
            [
             0.4444444444444444,
             "#bd3786"
            ],
            [
             0.5555555555555556,
             "#d8576b"
            ],
            [
             0.6666666666666666,
             "#ed7953"
            ],
            [
             0.7777777777777778,
             "#fb9f3a"
            ],
            [
             0.8888888888888888,
             "#fdca26"
            ],
            [
             1,
             "#f0f921"
            ]
           ]
          },
          "colorway": [
           "#636efa",
           "#EF553B",
           "#00cc96",
           "#ab63fa",
           "#FFA15A",
           "#19d3f3",
           "#FF6692",
           "#B6E880",
           "#FF97FF",
           "#FECB52"
          ],
          "font": {
           "color": "#2a3f5f"
          },
          "geo": {
           "bgcolor": "white",
           "lakecolor": "white",
           "landcolor": "#E5ECF6",
           "showlakes": true,
           "showland": true,
           "subunitcolor": "white"
          },
          "hoverlabel": {
           "align": "left"
          },
          "hovermode": "closest",
          "mapbox": {
           "style": "light"
          },
          "paper_bgcolor": "white",
          "plot_bgcolor": "#E5ECF6",
          "polar": {
           "angularaxis": {
            "gridcolor": "white",
            "linecolor": "white",
            "ticks": ""
           },
           "bgcolor": "#E5ECF6",
           "radialaxis": {
            "gridcolor": "white",
            "linecolor": "white",
            "ticks": ""
           }
          },
          "scene": {
           "xaxis": {
            "backgroundcolor": "#E5ECF6",
            "gridcolor": "white",
            "gridwidth": 2,
            "linecolor": "white",
            "showbackground": true,
            "ticks": "",
            "zerolinecolor": "white"
           },
           "yaxis": {
            "backgroundcolor": "#E5ECF6",
            "gridcolor": "white",
            "gridwidth": 2,
            "linecolor": "white",
            "showbackground": true,
            "ticks": "",
            "zerolinecolor": "white"
           },
           "zaxis": {
            "backgroundcolor": "#E5ECF6",
            "gridcolor": "white",
            "gridwidth": 2,
            "linecolor": "white",
            "showbackground": true,
            "ticks": "",
            "zerolinecolor": "white"
           }
          },
          "shapedefaults": {
           "line": {
            "color": "#2a3f5f"
           }
          },
          "ternary": {
           "aaxis": {
            "gridcolor": "white",
            "linecolor": "white",
            "ticks": ""
           },
           "baxis": {
            "gridcolor": "white",
            "linecolor": "white",
            "ticks": ""
           },
           "bgcolor": "#E5ECF6",
           "caxis": {
            "gridcolor": "white",
            "linecolor": "white",
            "ticks": ""
           }
          },
          "title": {
           "x": 0.05
          },
          "xaxis": {
           "automargin": true,
           "gridcolor": "white",
           "linecolor": "white",
           "ticks": "",
           "title": {
            "standoff": 15
           },
           "zerolinecolor": "white",
           "zerolinewidth": 2
          },
          "yaxis": {
           "automargin": true,
           "gridcolor": "white",
           "linecolor": "white",
           "ticks": "",
           "title": {
            "standoff": 15
           },
           "zerolinecolor": "white",
           "zerolinewidth": 2
          }
         }
        },
        "title": {
         "text": "图表标题"
        },
        "xaxis": {
         "ticklen": 5,
         "title": {
          "text": "X"
         },
         "zeroline": false
        },
        "yaxis": {
         "ticklen": 5,
         "title": {
          "text": "Y"
         },
         "zeroline": false
        }
       }
      },
      "text/html": [
       "<div>                            <div id=\"8a7ee860-6dc2-4dfc-b2b5-3832338150f9\" class=\"plotly-graph-div\" style=\"height:525px; width:100%;\"></div>            <script type=\"text/javascript\">                require([\"plotly\"], function(Plotly) {                    window.PLOTLYENV=window.PLOTLYENV || {};                                    if (document.getElementById(\"8a7ee860-6dc2-4dfc-b2b5-3832338150f9\")) {                    Plotly.newPlot(                        \"8a7ee860-6dc2-4dfc-b2b5-3832338150f9\",                        [{\"marker\":{\"color\":\"rgba(16, 112, 2, 0.8)\"},\"mode\":\"lines\",\"name\":\"\\u7ebf\\u540d\\u79f0\",\"text\":[3.0,4.0,4.0,5.0,5.0,6.0,8.0,9.0,9.0,10.0,10.0,10.0,10.0,12.0,14.0,14.0,16.0,17.0,18.0,19.0,19.0,20.0,20.0,22.0,23.0,24.0,25.0,25.0,26.0,28.0,28.0,29.0,29.0,29.0,33.0,34.0,34.0,35.0,36.0,36.0,37.0,39.0,39.0,39.0,39.0,44.0,45.0,45.0,45.0,45.0,47.0,49.0,49.0,50.0,51.0,53.0,56.0,56.0,56.0,58.0,58.0,59.0,61.0,61.0,62.0,64.0,64.0,65.0,65.0,65.0,67.0,67.0,67.0,70.0,71.0,72.0,72.0,73.0,74.0,74.0,76.0,76.0,78.0,78.0,79.0,82.0,83.0,84.0,84.0,85.0,89.0,92.0,93.0,93.0,93.0,93.0,95.0,96.0,99.0,99.0],\"x\":[3,4,4,5,5,6,8,9,9,10,10,10,10,12,14,14,16,17,18,19,19,20,20,22,23,24,25,25,26,28,28,29,29,29,33,34,34,35,36,36,37,39,39,39,39,44,45,45,45,45,47,49,49,50,51,53,56,56,56,58,58,59,61,61,62,64,64,65,65,65,67,67,67,70,71,72,72,73,74,74,76,76,78,78,79,82,83,84,84,85,89,92,93,93,93,93,95,96,99,99],\"y\":[22,26,40,55,14,71,32,79,66,64,70,97,51,74,72,31,18,44,34,34,27,8,64,47,43,68,39,25,30,15,32,93,90,29,56,97,6,29,96,98,35,13,82,63,1,22,4,12,99,51,90,53,38,55,33,26,65,0,57,62,73,27,97,33,20,59,12,48,35,76,65,80,4,0,75,58,34,3,71,79,69,45,84,17,31,82,82,68,1,30,22,56,21,63,60,27,87,57,38,88],\"type\":\"scatter\",\"line\":{\"color\":\"red\"}},{\"marker\":{\"color\":\"rgba(216, 112, 2, 0.8)\"},\"mode\":\"lines+markers\",\"name\":\"\\u7ebf\\u540d\\u79f02\",\"text\":[3.0,4.0,4.0,5.0,5.0,6.0,8.0,9.0,9.0,10.0,10.0,10.0,10.0,12.0,14.0,14.0,16.0,17.0,18.0,19.0,19.0,20.0,20.0,22.0,23.0,24.0,25.0,25.0,26.0,28.0,28.0,29.0,29.0,29.0,33.0,34.0,34.0,35.0,36.0,36.0,37.0,39.0,39.0,39.0,39.0,44.0,45.0,45.0,45.0,45.0,47.0,49.0,49.0,50.0,51.0,53.0,56.0,56.0,56.0,58.0,58.0,59.0,61.0,61.0,62.0,64.0,64.0,65.0,65.0,65.0,67.0,67.0,67.0,70.0,71.0,72.0,72.0,73.0,74.0,74.0,76.0,76.0,78.0,78.0,79.0,82.0,83.0,84.0,84.0,85.0,89.0,92.0,93.0,93.0,93.0,93.0,95.0,96.0,99.0,99.0],\"x\":[3,4,4,5,5,6,8,9,9,10,10,10,10,12,14,14,16,17,18,19,19,20,20,22,23,24,25,25,26,28,28,29,29,29,33,34,34,35,36,36,37,39,39,39,39,44,45,45,45,45,47,49,49,50,51,53,56,56,56,58,58,59,61,61,62,64,64,65,65,65,67,67,67,70,71,72,72,73,74,74,76,76,78,78,79,82,83,84,84,85,89,92,93,93,93,93,95,96,99,99],\"y\":[54,12,74,11,95,87,48,11,84,47,35,2,28,57,7,57,65,35,26,61,89,80,16,99,79,57,49,79,13,5,85,64,83,6,53,56,9,49,92,99,62,41,56,16,64,46,35,32,67,95,0,90,49,81,25,73,55,32,7,20,41,32,42,83,3,22,70,35,61,4,4,15,38,1,90,12,94,94,91,42,31,32,37,27,16,13,22,64,20,67,31,73,82,21,24,21,98,89,49,20],\"type\":\"scatter\"}],                        {\"title\":{\"text\":\"\\u56fe\\u8868\\u6807\\u9898\"},\"xaxis\":{\"ticklen\":5,\"title\":{\"text\":\"X\"},\"zeroline\":false},\"yaxis\":{\"ticklen\":5,\"title\":{\"text\":\"Y\"},\"zeroline\":false},\"template\":{\"data\":{\"histogram2dcontour\":[{\"type\":\"histogram2dcontour\",\"colorbar\":{\"outlinewidth\":0,\"ticks\":\"\"},\"colorscale\":[[0.0,\"#0d0887\"],[0.1111111111111111,\"#46039f\"],[0.2222222222222222,\"#7201a8\"],[0.3333333333333333,\"#9c179e\"],[0.4444444444444444,\"#bd3786\"],[0.5555555555555556,\"#d8576b\"],[0.6666666666666666,\"#ed7953\"],[0.7777777777777778,\"#fb9f3a\"],[0.8888888888888888,\"#fdca26\"],[1.0,\"#f0f921\"]]}],\"choropleth\":[{\"type\":\"choropleth\",\"colorbar\":{\"outlinewidth\":0,\"ticks\":\"\"}}],\"histogram2d\":[{\"type\":\"histogram2d\",\"colorbar\":{\"outlinewidth\":0,\"ticks\":\"\"},\"colorscale\":[[0.0,\"#0d0887\"],[0.1111111111111111,\"#46039f\"],[0.2222222222222222,\"#7201a8\"],[0.3333333333333333,\"#9c179e\"],[0.4444444444444444,\"#bd3786\"],[0.5555555555555556,\"#d8576b\"],[0.6666666666666666,\"#ed7953\"],[0.7777777777777778,\"#fb9f3a\"],[0.8888888888888888,\"#fdca26\"],[1.0,\"#f0f921\"]]}],\"heatmap\":[{\"type\":\"heatmap\",\"colorbar\":{\"outlinewidth\":0,\"ticks\":\"\"},\"colorscale\":[[0.0,\"#0d0887\"],[0.1111111111111111,\"#46039f\"],[0.2222222222222222,\"#7201a8\"],[0.3333333333333333,\"#9c179e\"],[0.4444444444444444,\"#bd3786\"],[0.5555555555555556,\"#d8576b\"],[0.6666666666666666,\"#ed7953\"],[0.7777777777777778,\"#fb9f3a\"],[0.8888888888888888,\"#fdca26\"],[1.0,\"#f0f921\"]]}],\"heatmapgl\":[{\"type\":\"heatmapgl\",\"colorbar\":{\"outlinewidth\":0,\"ticks\":\"\"},\"colorscale\":[[0.0,\"#0d0887\"],[0.1111111111111111,\"#46039f\"],[0.2222222222222222,\"#7201a8\"],[0.3333333333333333,\"#9c179e\"],[0.4444444444444444,\"#bd3786\"],[0.5555555555555556,\"#d8576b\"],[0.6666666666666666,\"#ed7953\"],[0.7777777777777778,\"#fb9f3a\"],[0.8888888888888888,\"#fdca26\"],[1.0,\"#f0f921\"]]}],\"contourcarpet\":[{\"type\":\"contourcarpet\",\"colorbar\":{\"outlinewidth\":0,\"ticks\":\"\"}}],\"contour\":[{\"type\":\"contour\",\"colorbar\":{\"outlinewidth\":0,\"ticks\":\"\"},\"colorscale\":[[0.0,\"#0d0887\"],[0.1111111111111111,\"#46039f\"],[0.2222222222222222,\"#7201a8\"],[0.3333333333333333,\"#9c179e\"],[0.4444444444444444,\"#bd3786\"],[0.5555555555555556,\"#d8576b\"],[0.6666666666666666,\"#ed7953\"],[0.7777777777777778,\"#fb9f3a\"],[0.8888888888888888,\"#fdca26\"],[1.0,\"#f0f921\"]]}],\"surface\":[{\"type\":\"surface\",\"colorbar\":{\"outlinewidth\":0,\"ticks\":\"\"},\"colorscale\":[[0.0,\"#0d0887\"],[0.1111111111111111,\"#46039f\"],[0.2222222222222222,\"#7201a8\"],[0.3333333333333333,\"#9c179e\"],[0.4444444444444444,\"#bd3786\"],[0.5555555555555556,\"#d8576b\"],[0.6666666666666666,\"#ed7953\"],[0.7777777777777778,\"#fb9f3a\"],[0.8888888888888888,\"#fdca26\"],[1.0,\"#f0f921\"]]}],\"mesh3d\":[{\"type\":\"mesh3d\",\"colorbar\":{\"outlinewidth\":0,\"ticks\":\"\"}}],\"scatter\":[{\"fillpattern\":{\"fillmode\":\"overlay\",\"size\":10,\"solidity\":0.2},\"type\":\"scatter\"}],\"parcoords\":[{\"type\":\"parcoords\",\"line\":{\"colorbar\":{\"outlinewidth\":0,\"ticks\":\"\"}}}],\"scatterpolargl\":[{\"type\":\"scatterpolargl\",\"marker\":{\"colorbar\":{\"outlinewidth\":0,\"ticks\":\"\"}}}],\"bar\":[{\"error_x\":{\"color\":\"#2a3f5f\"},\"error_y\":{\"color\":\"#2a3f5f\"},\"marker\":{\"line\":{\"color\":\"#E5ECF6\",\"width\":0.5},\"pattern\":{\"fillmode\":\"overlay\",\"size\":10,\"solidity\":0.2}},\"type\":\"bar\"}],\"scattergeo\":[{\"type\":\"scattergeo\",\"marker\":{\"colorbar\":{\"outlinewidth\":0,\"ticks\":\"\"}}}],\"scatterpolar\":[{\"type\":\"scatterpolar\",\"marker\":{\"colorbar\":{\"outlinewidth\":0,\"ticks\":\"\"}}}],\"histogram\":[{\"marker\":{\"pattern\":{\"fillmode\":\"overlay\",\"size\":10,\"solidity\":0.2}},\"type\":\"histogram\"}],\"scattergl\":[{\"type\":\"scattergl\",\"marker\":{\"colorbar\":{\"outlinewidth\":0,\"ticks\":\"\"}}}],\"scatter3d\":[{\"type\":\"scatter3d\",\"line\":{\"colorbar\":{\"outlinewidth\":0,\"ticks\":\"\"}},\"marker\":{\"colorbar\":{\"outlinewidth\":0,\"ticks\":\"\"}}}],\"scattermapbox\":[{\"type\":\"scattermapbox\",\"marker\":{\"colorbar\":{\"outlinewidth\":0,\"ticks\":\"\"}}}],\"scatterternary\":[{\"type\":\"scatterternary\",\"marker\":{\"colorbar\":{\"outlinewidth\":0,\"ticks\":\"\"}}}],\"scattercarpet\":[{\"type\":\"scattercarpet\",\"marker\":{\"colorbar\":{\"outlinewidth\":0,\"ticks\":\"\"}}}],\"carpet\":[{\"aaxis\":{\"endlinecolor\":\"#2a3f5f\",\"gridcolor\":\"white\",\"linecolor\":\"white\",\"minorgridcolor\":\"white\",\"startlinecolor\":\"#2a3f5f\"},\"baxis\":{\"endlinecolor\":\"#2a3f5f\",\"gridcolor\":\"white\",\"linecolor\":\"white\",\"minorgridcolor\":\"white\",\"startlinecolor\":\"#2a3f5f\"},\"type\":\"carpet\"}],\"table\":[{\"cells\":{\"fill\":{\"color\":\"#EBF0F8\"},\"line\":{\"color\":\"white\"}},\"header\":{\"fill\":{\"color\":\"#C8D4E3\"},\"line\":{\"color\":\"white\"}},\"type\":\"table\"}],\"barpolar\":[{\"marker\":{\"line\":{\"color\":\"#E5ECF6\",\"width\":0.5},\"pattern\":{\"fillmode\":\"overlay\",\"size\":10,\"solidity\":0.2}},\"type\":\"barpolar\"}],\"pie\":[{\"automargin\":true,\"type\":\"pie\"}]},\"layout\":{\"autotypenumbers\":\"strict\",\"colorway\":[\"#636efa\",\"#EF553B\",\"#00cc96\",\"#ab63fa\",\"#FFA15A\",\"#19d3f3\",\"#FF6692\",\"#B6E880\",\"#FF97FF\",\"#FECB52\"],\"font\":{\"color\":\"#2a3f5f\"},\"hovermode\":\"closest\",\"hoverlabel\":{\"align\":\"left\"},\"paper_bgcolor\":\"white\",\"plot_bgcolor\":\"#E5ECF6\",\"polar\":{\"bgcolor\":\"#E5ECF6\",\"angularaxis\":{\"gridcolor\":\"white\",\"linecolor\":\"white\",\"ticks\":\"\"},\"radialaxis\":{\"gridcolor\":\"white\",\"linecolor\":\"white\",\"ticks\":\"\"}},\"ternary\":{\"bgcolor\":\"#E5ECF6\",\"aaxis\":{\"gridcolor\":\"white\",\"linecolor\":\"white\",\"ticks\":\"\"},\"baxis\":{\"gridcolor\":\"white\",\"linecolor\":\"white\",\"ticks\":\"\"},\"caxis\":{\"gridcolor\":\"white\",\"linecolor\":\"white\",\"ticks\":\"\"}},\"coloraxis\":{\"colorbar\":{\"outlinewidth\":0,\"ticks\":\"\"}},\"colorscale\":{\"sequential\":[[0.0,\"#0d0887\"],[0.1111111111111111,\"#46039f\"],[0.2222222222222222,\"#7201a8\"],[0.3333333333333333,\"#9c179e\"],[0.4444444444444444,\"#bd3786\"],[0.5555555555555556,\"#d8576b\"],[0.6666666666666666,\"#ed7953\"],[0.7777777777777778,\"#fb9f3a\"],[0.8888888888888888,\"#fdca26\"],[1.0,\"#f0f921\"]],\"sequentialminus\":[[0.0,\"#0d0887\"],[0.1111111111111111,\"#46039f\"],[0.2222222222222222,\"#7201a8\"],[0.3333333333333333,\"#9c179e\"],[0.4444444444444444,\"#bd3786\"],[0.5555555555555556,\"#d8576b\"],[0.6666666666666666,\"#ed7953\"],[0.7777777777777778,\"#fb9f3a\"],[0.8888888888888888,\"#fdca26\"],[1.0,\"#f0f921\"]],\"diverging\":[[0,\"#8e0152\"],[0.1,\"#c51b7d\"],[0.2,\"#de77ae\"],[0.3,\"#f1b6da\"],[0.4,\"#fde0ef\"],[0.5,\"#f7f7f7\"],[0.6,\"#e6f5d0\"],[0.7,\"#b8e186\"],[0.8,\"#7fbc41\"],[0.9,\"#4d9221\"],[1,\"#276419\"]]},\"xaxis\":{\"gridcolor\":\"white\",\"linecolor\":\"white\",\"ticks\":\"\",\"title\":{\"standoff\":15},\"zerolinecolor\":\"white\",\"automargin\":true,\"zerolinewidth\":2},\"yaxis\":{\"gridcolor\":\"white\",\"linecolor\":\"white\",\"ticks\":\"\",\"title\":{\"standoff\":15},\"zerolinecolor\":\"white\",\"automargin\":true,\"zerolinewidth\":2},\"scene\":{\"xaxis\":{\"backgroundcolor\":\"#E5ECF6\",\"gridcolor\":\"white\",\"linecolor\":\"white\",\"showbackground\":true,\"ticks\":\"\",\"zerolinecolor\":\"white\",\"gridwidth\":2},\"yaxis\":{\"backgroundcolor\":\"#E5ECF6\",\"gridcolor\":\"white\",\"linecolor\":\"white\",\"showbackground\":true,\"ticks\":\"\",\"zerolinecolor\":\"white\",\"gridwidth\":2},\"zaxis\":{\"backgroundcolor\":\"#E5ECF6\",\"gridcolor\":\"white\",\"linecolor\":\"white\",\"showbackground\":true,\"ticks\":\"\",\"zerolinecolor\":\"white\",\"gridwidth\":2}},\"shapedefaults\":{\"line\":{\"color\":\"#2a3f5f\"}},\"annotationdefaults\":{\"arrowcolor\":\"#2a3f5f\",\"arrowhead\":0,\"arrowwidth\":1},\"geo\":{\"bgcolor\":\"white\",\"landcolor\":\"#E5ECF6\",\"subunitcolor\":\"white\",\"showland\":true,\"showlakes\":true,\"lakecolor\":\"white\"},\"title\":{\"x\":0.05},\"mapbox\":{\"style\":\"light\"}}}},                        {\"responsive\": true}                    ).then(function(){\n",
       "                            \n",
       "var gd = document.getElementById('8a7ee860-6dc2-4dfc-b2b5-3832338150f9');\n",
       "var x = new MutationObserver(function (mutations, observer) {{\n",
       "        var display = window.getComputedStyle(gd).display;\n",
       "        if (!display || display === 'none') {{\n",
       "            console.log([gd, 'removed!']);\n",
       "            Plotly.purge(gd);\n",
       "            observer.disconnect();\n",
       "        }}\n",
       "}});\n",
       "\n",
       "// Listen for the removal of the full notebook cells\n",
       "var notebookContainer = gd.closest('#notebook-container');\n",
       "if (notebookContainer) {{\n",
       "    x.observe(notebookContainer, {childList: true});\n",
       "}}\n",
       "\n",
       "// Listen for the clearing of the current output cell\n",
       "var outputEl = gd.closest('.output');\n",
       "if (outputEl) {{\n",
       "    x.observe(outputEl, {childList: true});\n",
       "}}\n",
       "\n",
       "                        })                };                });            </script>        </div>"
      ]
     },
     "metadata": {},
     "output_type": "display_data"
    }
   ],
   "source": [
    "fig.update_traces(selector=dict(name=\"线名称\"), line_color=\"red\")"
   ]
  },
  {
   "cell_type": "code",
   "execution_count": 118,
   "metadata": {},
   "outputs": [],
   "source": []
  },
  {
   "cell_type": "code",
   "execution_count": null,
   "metadata": {},
   "outputs": [],
   "source": []
  }
 ],
 "metadata": {
  "kernelspec": {
   "display_name": "ds",
   "language": "python",
   "name": "python3"
  },
  "language_info": {
   "codemirror_mode": {
    "name": "ipython",
    "version": 3
   },
   "file_extension": ".py",
   "mimetype": "text/x-python",
   "name": "python",
   "nbconvert_exporter": "python",
   "pygments_lexer": "ipython3",
   "version": "3.10.9"
  },
  "orig_nbformat": 4,
  "vscode": {
   "interpreter": {
    "hash": "2b2d8e2a77be7e02c68eb23169c3532130899ac6652a93bada179ed83d2527d2"
   }
  }
 },
 "nbformat": 4,
 "nbformat_minor": 2
}
