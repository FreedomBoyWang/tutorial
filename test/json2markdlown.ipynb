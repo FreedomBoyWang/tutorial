{
 "cells": [
  {
   "cell_type": "code",
   "execution_count": 2,
   "metadata": {},
   "outputs": [],
   "source": [
    "import json"
   ]
  },
  {
   "cell_type": "code",
   "execution_count": 3,
   "metadata": {},
   "outputs": [],
   "source": [
    "with open(r'..\\data\\plot-schema.json') as f:\n",
    "    jsondata = json.load(f)"
   ]
  },
  {
   "cell_type": "code",
   "execution_count": null,
   "metadata": {},
   "outputs": [],
   "source": []
  },
  {
   "cell_type": "code",
   "execution_count": 84,
   "metadata": {},
   "outputs": [],
   "source": [
    "def print_json(jsondata,level=0):\n",
    "    indent='    '\n",
    "    for k,v in jsondata.items():\n",
    "        if isinstance(v,dict):\n",
    "            print('{:s}+ **{:s}** </br>'.format(indent*level,k))\n",
    "            print_json(v,level+1)\n",
    "        else:\n",
    "            if(isinstance(v,list)):\n",
    "                print('{}- ***{}:*** [{}] </br>'.format(indent*level,k,' | '.join(['`%s`'%i for i in v])))\n",
    "            else:\n",
    "                print('{}- ***{}:*** {} </br>'.format(indent*level,k,str(v)))\n",
    "def print_outline(jsondata,level_end=0,level_begin=0):\n",
    "    indent='    '\n",
    "    for k,v in jsondata.items():\n",
    "        if isinstance(v,dict) and level_begin<=level_end:\n",
    "            print('{}{}'.format(indent*level_begin,k))\n",
    "            print_outline(v,level_begin=level_begin+1,level_end=level_end)"
   ]
  },
  {
   "cell_type": "code",
   "execution_count": 86,
   "metadata": {},
   "outputs": [
    {
     "name": "stdout",
     "output_type": "stream",
     "text": [
      "animation\n",
      "    direction\n",
      "    frame\n",
      "    fromcurrent\n",
      "    mode\n",
      "    transition\n",
      "config\n",
      "    autosizable\n",
      "    displaylogo\n",
      "    displayModeBar\n",
      "    doubleClick\n",
      "    doubleClickDelay\n",
      "    editable\n",
      "    edits\n",
      "    editSelection\n",
      "    fillFrame\n",
      "    frameMargins\n",
      "    globalTransforms\n",
      "    linkText\n",
      "    locale\n",
      "    locales\n",
      "    logging\n",
      "    mapboxAccessToken\n",
      "    modeBarButtons\n",
      "    modeBarButtonsToAdd\n",
      "    modeBarButtonsToRemove\n",
      "    notifyOnLogging\n",
      "    plotGlPixelRatio\n",
      "    plotlyServerURL\n",
      "    queueLength\n",
      "    responsive\n",
      "    scrollZoom\n",
      "    sendData\n",
      "    setBackground\n",
      "    showAxisDragHandles\n",
      "    showAxisRangeEntryBoxes\n",
      "    showEditInChartStudio\n",
      "    showLink\n",
      "    showSendToCloud\n",
      "    showSources\n",
      "    showTips\n",
      "    staticPlot\n",
      "    toImageButtonOptions\n",
      "    topojsonURL\n",
      "    typesetMath\n",
      "    watermark\n",
      "defs\n",
      "    editType\n",
      "    impliedEdits\n",
      "    valObjects\n",
      "frames\n",
      "    items\n",
      "layout\n",
      "    layoutAttributes\n",
      "traces\n",
      "    bar\n",
      "    barpolar\n",
      "    box\n",
      "    candlestick\n",
      "    carpet\n",
      "    choropleth\n",
      "    choroplethmapbox\n",
      "    cone\n",
      "    contour\n",
      "    contourcarpet\n",
      "    densitymapbox\n",
      "    funnel\n",
      "    funnelarea\n",
      "    heatmap\n",
      "    heatmapgl\n",
      "    histogram\n",
      "    histogram2d\n",
      "    histogram2dcontour\n",
      "    icicle\n",
      "    image\n",
      "    indicator\n",
      "    isosurface\n",
      "    mesh3d\n",
      "    ohlc\n",
      "    parcats\n",
      "    parcoords\n",
      "    pie\n",
      "    pointcloud\n",
      "    sankey\n",
      "    scatter\n",
      "    scatter3d\n",
      "    scattercarpet\n",
      "    scattergeo\n",
      "    scattergl\n",
      "    scattermapbox\n",
      "    scatterpolar\n",
      "    scatterpolargl\n",
      "    scattersmith\n",
      "    scatterternary\n",
      "    splom\n",
      "    streamtube\n",
      "    sunburst\n",
      "    surface\n",
      "    table\n",
      "    treemap\n",
      "    violin\n",
      "    volume\n",
      "    waterfall\n",
      "transforms\n",
      "    aggregate\n",
      "    filter\n",
      "    groupby\n",
      "    sort\n"
     ]
    }
   ],
   "source": [
    "print_outline(jsondata,1)"
   ]
  },
  {
   "cell_type": "code",
   "execution_count": null,
   "metadata": {},
   "outputs": [],
   "source": []
  }
 ],
 "metadata": {
  "kernelspec": {
   "display_name": "pcv",
   "language": "python",
   "name": "python3"
  },
  "language_info": {
   "codemirror_mode": {
    "name": "ipython",
    "version": 3
   },
   "file_extension": ".py",
   "mimetype": "text/x-python",
   "name": "python",
   "nbconvert_exporter": "python",
   "pygments_lexer": "ipython3",
   "version": "3.9.16"
  },
  "orig_nbformat": 4,
  "vscode": {
   "interpreter": {
    "hash": "480ed93b9ebc08638de127b6854a517ad1abe3074f40270c34abf17b4b24fec1"
   }
  }
 },
 "nbformat": 4,
 "nbformat_minor": 2
}
